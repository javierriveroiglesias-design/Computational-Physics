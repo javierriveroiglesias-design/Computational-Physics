{
  "nbformat": 4,
  "nbformat_minor": 0,
  "metadata": {
    "colab": {
      "provenance": [],
      "toc_visible": true,
      "include_colab_link": true
    },
    "kernelspec": {
      "name": "python3",
      "display_name": "Python 3"
    }
  },
  "cells": [
    {
      "cell_type": "markdown",
      "metadata": {
        "id": "view-in-github",
        "colab_type": "text"
      },
      "source": [
        "<a href=\"https://colab.research.google.com/github/javierriveroiglesias-design/Computational-Physics/blob/main/Python_Tutorials/Chapter_2_Data_Types.ipynb\" target=\"_parent\"><img src=\"https://colab.research.google.com/assets/colab-badge.svg\" alt=\"Open In Colab\"/></a>"
      ]
    },
    {
      "cell_type": "markdown",
      "source": [
        "# Chapter 2 - Data Types"
      ],
      "metadata": {
        "id": "Zs1hse2JWxg2"
      }
    },
    {
      "cell_type": "markdown",
      "source": [
        "Objectives:\n",
        "*  Learn about data types in Python including:  integer, float, boolean and string\n",
        "*  Learn how to convert one data type into another\n",
        "* learn how to use formatted printing"
      ],
      "metadata": {
        "id": "mYx7rd9VHabD"
      }
    },
    {
      "cell_type": "markdown",
      "source": [
        "##**2.0 Every variable (and value) has a type**\n",
        "* **Integer** (int): represents positive or negative whole numbers like 3 or -512.\n",
        "* **Floating point number** (float): represents real numbers like 3.14159 or -2.5.\n",
        "* **Complex**: Python uses `j` as the complex unit, so `c = 2 + 3j` is a complex number (assuming you haven't redefined `j` as a variable).\n",
        "* **Character string** (usually called “string”, str): text contained inside quotes like 'hello' or \"howdy\" (single and double quotes both work). The quote marks aren't printed when the string is displayed.\n",
        "* **Boolean** (bool):  variables that store True or False values. These variable are useful in loops and `if statements` that will be discussed later.\n",
        "\n"
      ],
      "metadata": {
        "id": "QIGhHIg1lqT5"
      }
    },
    {
      "cell_type": "markdown",
      "source": [
        "Let's define a few variables and examine their data types."
      ],
      "metadata": {
        "id": "BnrloF64BMvj"
      }
    },
    {
      "cell_type": "code",
      "source": [
        "x = 4           # integer\n",
        "y = 4.2         # float\n",
        "c = 1 + 2j      # complex\n",
        "a = 'dog'       # string\n",
        "happy = True    # boolean"
      ],
      "metadata": {
        "id": "qzzY2dgHB6Eb"
      },
      "execution_count": null,
      "outputs": []
    },
    {
      "cell_type": "markdown",
      "source": [
        "Notice that in Jupyter Notebooks, number values are colored dark green, strings are red and Boolean values are blue.\n",
        "\n",
        "We can check the data type of a variable in two ways:\n",
        "*  Use the `type` function (hard way)\n",
        "*  Use the variable inspector (easy way)\n",
        "\n",
        "Here's an example of how to display the data type of our 4 variables using the `print()` and `type()` functions (run it to see the results):"
      ],
      "metadata": {
        "id": "C97zTdryDDep"
      }
    },
    {
      "cell_type": "code",
      "source": [
        "print('data type of x is',type(x))\n",
        "print('data type of y is',type(y))\n",
        "print('data type of c is',type(c))\n",
        "print('data type of a is',type(a))\n",
        "print('data type of happy is',type(happy))\n"
      ],
      "metadata": {
        "id": "oMmLhMxeErQm"
      },
      "execution_count": null,
      "outputs": []
    },
    {
      "cell_type": "markdown",
      "source": [
        "The next section shows how to use the Variable Inspector."
      ],
      "metadata": {
        "id": "AnTXvKBRFPlk"
      }
    },
    {
      "cell_type": "markdown",
      "source": [
        "##**2.1 The Variable Inspector**\n",
        "The **Variable Inspector** icon may be found on the bottom left corner of this window and it is labeled `{} Variables`.  Click this icon to display the variable inspector. You should see a list of all the variables you have used in this tutorial, their values, and their data types. While the Variable Inspector can be very helpful in debugging your code, be aware that it can slow down execution of complex code while it is open. Thus, you may want to only open it when it is needed.\n",
        "\n",
        "The Variable Inspector can be very useful for debugging code, especially when you start writing complex programs."
      ],
      "metadata": {
        "id": "AYRMH8SmDjLi"
      }
    },
    {
      "cell_type": "markdown",
      "source": [
        "## **2.2 Data types control what operations can be performed on a variable**\n",
        "\n",
        "The `+` operator has different effects on numbers and strings. Run the following code, for example:"
      ],
      "metadata": {
        "id": "9RbCM6M185k1"
      }
    },
    {
      "cell_type": "code",
      "source": [
        "x = 3\n",
        "y = 4\n",
        "print(x+y)     # the + operator adds number\n",
        "\n",
        "a = 'Marie '   # notice we added a space at the end of 'Marie'\n",
        "b = 'Curie'\n",
        "print(a+b)     # the + operator concatenates strings"
      ],
      "metadata": {
        "id": "n-cj6wTynLli"
      },
      "execution_count": null,
      "outputs": []
    },
    {
      "cell_type": "markdown",
      "source": [
        "We see that the `+` operator:\n",
        "* adds numbers (either floats or ints)\n",
        "* concatenates strings. In other words, it sticks the two strings together to make a longer string"
      ],
      "metadata": {
        "id": "6uy-uMchnRVL"
      }
    },
    {
      "cell_type": "markdown",
      "source": [
        "### ✅ Skill Check 1\n",
        "See what effect the `*` operator has on strings\n",
        "* Create a code cell\n",
        "* assign a character string to a variable (for example, you could name it `my_string`)\n",
        "* print your string variable as well as the value `10*my_string`.\n",
        "* Your print statement should say something like 'If my_string = \\_\\_\\_, then 10 * my_string = \\_\\_\\_, where your code fills in the blanks \\_\\_\\_.\n"
      ],
      "metadata": {
        "id": "gxpObwG_RL3s"
      }
    },
    {
      "cell_type": "markdown",
      "source": [
        "##**2.3 Data Types can be converted into one another**\n",
        "\n"
      ],
      "metadata": {
        "id": "RI4P_qUvxPMc"
      }
    },
    {
      "cell_type": "markdown",
      "source": [
        "###2.3.1 Convert string to integer\n",
        "A common situation when you might want to convert a string to an integer is when the `input()` statement is used to prompt the user for a number. Run the following:\n"
      ],
      "metadata": {
        "id": "T4SQHa0BaGyH"
      }
    },
    {
      "cell_type": "code",
      "source": [
        "result = input('Enter an integer:  ')\n",
        "print('the data type of ',result,'is',type(result))\n",
        "print('4 *',result,'=',4*result)"
      ],
      "metadata": {
        "id": "W0dyvDD-yFxE"
      },
      "execution_count": null,
      "outputs": []
    },
    {
      "cell_type": "markdown",
      "source": [
        "* The default data type returned by the `input` statement is a string.\n",
        "* This can be confusing:  even though the variable `result` shows its value to be `4`, we can't do any math with it yet because it is a string and not an integer or float.\n",
        "* In the above code cell, we try multiplying our string variable `result` by 4 to get a surprising result!!\n",
        "* To convert this string to an integer we can use `int()`:"
      ],
      "metadata": {
        "id": "PalUkglK-3hY"
      }
    },
    {
      "cell_type": "code",
      "source": [
        "n = int(result)\n",
        "print('the data type of ',n,'is',type(n))\n",
        "print('4 *',n,'=',4*n)"
      ],
      "metadata": {
        "id": "Y_GyGu00_LJB"
      },
      "execution_count": null,
      "outputs": []
    },
    {
      "cell_type": "markdown",
      "source": [
        "* We see that multiplication makes more sense now that we are multiplying an integer and not a string."
      ],
      "metadata": {
        "id": "KYrRfcWgA-zt"
      }
    },
    {
      "cell_type": "markdown",
      "source": [
        "###2.3.2 Convert string to float\n",
        "The `float()` function converts strings to floats:"
      ],
      "metadata": {
        "id": "jVqROcjuAI82"
      }
    },
    {
      "cell_type": "code",
      "source": [
        "a = '9.8'\n",
        "g = float(a)\n",
        "print('the data type of ',a,'is',type(a))\n",
        "print('the data type of ',g,'is',type(g))"
      ],
      "metadata": {
        "id": "QmlkGDYlAosX"
      },
      "execution_count": null,
      "outputs": []
    },
    {
      "cell_type": "markdown",
      "source": [
        "###2.3.3 Convert integers and floats to strings\n",
        "The simplest way to convert a number (either an integer or float) to a string is the `str()` function:"
      ],
      "metadata": {
        "id": "-lpRI9_tBPC9"
      }
    },
    {
      "cell_type": "code",
      "source": [
        "a = str(3.14)\n",
        "print('the data type of ',a,'is',type(a))\n"
      ],
      "metadata": {
        "id": "4IKRVH1hByMu"
      },
      "execution_count": null,
      "outputs": []
    },
    {
      "cell_type": "markdown",
      "source": [
        "The method described in the next section describes how to have more control over the appearance of string representations of numbers."
      ],
      "metadata": {
        "id": "XGbgHIm3B_Lx"
      }
    },
    {
      "cell_type": "markdown",
      "source": [
        "###2.3.4 Convert float to integer\n",
        "\n",
        "If we want to remove the digits to the right of the decimal point, we can just use the `int()` command like this:"
      ],
      "metadata": {
        "id": "KxuYKC79MVSv"
      }
    },
    {
      "cell_type": "code",
      "source": [
        "p = int(2.999)\n",
        "print(p)"
      ],
      "metadata": {
        "id": "RNzbyYipMwSi"
      },
      "execution_count": null,
      "outputs": []
    },
    {
      "cell_type": "markdown",
      "source": [
        "However, if you want to round your float to the nearest integer, you can use `round()`:"
      ],
      "metadata": {
        "id": "t9MRRM6nNVic"
      }
    },
    {
      "cell_type": "code",
      "source": [
        "r = round(2.999)\n",
        "print(r)"
      ],
      "metadata": {
        "id": "MbMqcwZ3Okeu"
      },
      "execution_count": null,
      "outputs": []
    },
    {
      "cell_type": "markdown",
      "source": [
        "Both of these methods convert floats to ints. You can verify this in the Variable Inspector or by using the `type()` command."
      ],
      "metadata": {
        "id": "IW7P6r4XPEhI"
      }
    },
    {
      "cell_type": "markdown",
      "source": [
        "###2.3.5 Convert Integer to Float\n",
        "\n",
        "We can convert an iteger to a float by using the `float()` command:"
      ],
      "metadata": {
        "id": "8PLYGW0bPdnB"
      }
    },
    {
      "cell_type": "code",
      "source": [
        "q = float(3)\n",
        "print(\"The data type of\",q,\"is\",type(q))"
      ],
      "metadata": {
        "id": "AUE7ta2VP70n"
      },
      "execution_count": null,
      "outputs": []
    },
    {
      "cell_type": "markdown",
      "source": [
        "### ✅ Skill Check 2\n",
        "\n",
        "What happens when you add or multiply a float by an integer?  Is the resulting data type float or int?  Write some code to show an example of each. Create a code cell to try out your examples and create a text cell to explain your answer."
      ],
      "metadata": {
        "id": "S4LvX-W-Qf0a"
      }
    },
    {
      "cell_type": "markdown",
      "source": [
        "##**2.4 f-strings and formatted print**\n",
        "\n",
        "Let's suppose we are given the a number with more significant digits than we care about. We want to display our number keeping only two decimal places to the right of decimal place. We can do this with a formatted \"f\" string like this:\n",
        "\n",
        "\n",
        "\n"
      ],
      "metadata": {
        "id": "qlF7QiepoM1D"
      }
    },
    {
      "cell_type": "code",
      "source": [
        "x = 316.227766       # float number showing 6 decimal places\n",
        "x_str = f'{x:.2f}'   # string representation of x keeping 2 decimal places\n",
        "print(x_str)         # display the truncated value"
      ],
      "metadata": {
        "id": "wwcU8NGNF08w"
      },
      "execution_count": null,
      "outputs": []
    },
    {
      "cell_type": "markdown",
      "source": [
        "A formatted string has text inside a pair of quotes, but with the letter \"f\" out in front. We place a variable that we want to format inside curly braces followed by a formatting string. In the above example, the `:.2f` means we want to format the number as a float and keep 2 digits to the right of the decimal point.\n",
        "\n",
        "If we just want to print the formatted number, we can just include the formatted string directly in the print function without the `x_str` variable:"
      ],
      "metadata": {
        "id": "XyJCn3MJG_wh"
      }
    },
    {
      "cell_type": "code",
      "source": [
        "print(f'{x:.2f}')    # simplified formatted print"
      ],
      "metadata": {
        "id": "Vy-gKNO5UR2D"
      },
      "execution_count": null,
      "outputs": []
    },
    {
      "cell_type": "markdown",
      "source": [
        "Here are more examples for formatting floats:"
      ],
      "metadata": {
        "id": "r85HKsYVUfyV"
      }
    },
    {
      "cell_type": "code",
      "source": [
        "print(f'1st example {x:.2f}')   # displays float with 2 decimal places\n",
        "print(f'2nd example {x:.4f}')   # displays float with 4 decimal places\n",
        "print(f'3rd example {x:12.5f}') # displays float with 5 decimal places and reserves total of 12 places\n",
        "print(f'4th example {x:.2e}')   # scientific notation with 2 digits after the decimal"
      ],
      "metadata": {
        "id": "uyD9fk1QODEv"
      },
      "execution_count": null,
      "outputs": []
    },
    {
      "cell_type": "markdown",
      "source": [
        "For integers you can specify the number of spaces set aside for columns of numbers. The formatting symbol for integers is \"d\". Heres's an example showing what happens when you print a set of numbers with different numbers of digits both with and without formatting. Since our biggest number has 5 digits, we'll reserve 5 digits for each data column using the format `{my_var:5d}`, where you would replace \"`my_var`\" with your variable name."
      ],
      "metadata": {
        "id": "rnhb6cdNC31p"
      }
    },
    {
      "cell_type": "code",
      "source": [
        "a = 2; b = 21043; c = 77; d =764\n",
        "print(f\"{a:5d}  {a:5d}      {a}  {a}\")\n",
        "print(f\"{b:5d}  {b:5d}      {b}  {b}\")\n",
        "print(f\"{c:5d}  {c:5d}      {c}  {c}\")\n",
        "print(f\"{d:5d}  {d:5d}      {d}  {d}\")"
      ],
      "metadata": {
        "id": "_v8qC_qID0o6",
        "colab": {
          "base_uri": "https://localhost:8080/"
        },
        "outputId": "4b5d5f59-67f7-4cb8-df35-f8e58fbe11bc"
      },
      "execution_count": 23,
      "outputs": [
        {
          "output_type": "stream",
          "name": "stdout",
          "text": [
            "    2      2      2  2\n",
            "21043  21043      21043  21043\n",
            "   77     77      77  77\n",
            "  764    764      764  764\n"
          ]
        }
      ]
    },
    {
      "cell_type": "markdown",
      "source": [
        "Notice how the first two columns that are formated are nicely lined up (and right-justified), while the last two columns aren't. As we'll see later, formatted print statements are particularly useful when saving data to text files."
      ],
      "metadata": {
        "id": "QG9HulLQFLdX"
      }
    },
    {
      "cell_type": "markdown",
      "source": [
        "You can get fancy and include text and multiple formatted variables in the same print statement like this:"
      ],
      "metadata": {
        "id": "PX0aIeDqWB5I"
      }
    },
    {
      "cell_type": "code",
      "source": [
        "x = 4.334565   # x measurement\n",
        "y = 12.4848    # y measurement\n",
        "print(f'My measurements are x = {x:.2f} and y = {y:.2f}')"
      ],
      "metadata": {
        "id": "8sUfQcTrQ3YG",
        "colab": {
          "base_uri": "https://localhost:8080/"
        },
        "outputId": "b48bf5f1-3177-43b7-d72f-5663e672d5ba"
      },
      "execution_count": 4,
      "outputs": [
        {
          "output_type": "stream",
          "name": "stdout",
          "text": [
            "My measurements are x = 4.33 and y = 12.48\n"
          ]
        }
      ]
    },
    {
      "cell_type": "markdown",
      "source": [
        "Remember, the variables go inside curly braces with the formatting."
      ],
      "metadata": {
        "id": "rNgEe80wXVIp"
      }
    },
    {
      "cell_type": "markdown",
      "source": [
        "### ✅ Skill Check 3\n",
        "\n",
        "Write some code to prompt the user to enter a floating-point number. Break the number into its integer part (numbers to the left of the decimal) and the fractional part (numbers to the right of the decimal). Use a single print statement to display the original number, the whole part and the decimal part. Your print statement should produce a result that is easy to understand to the user."
      ],
      "metadata": {
        "id": "G2DsbKwjljoP"
      }
    },
    {
      "cell_type": "code",
      "source": [
        "x = float(input(\"Enter a number: \"))\n",
        "xL = int(x) # Whole number of the input\n",
        "xR = x - xL # Decimal part of the input\n",
        "print(f'{x} has a whole point {xL} and decimal {xR:.2f}') # Rounded decimal\n",
        "print(f'{x} has a whole point {xL} and decimal {xR}')"
      ],
      "metadata": {
        "colab": {
          "base_uri": "https://localhost:8080/"
        },
        "id": "XsvHULupRRF1",
        "outputId": "742e836d-bf19-4d12-e34a-db76da4e4893"
      },
      "execution_count": 43,
      "outputs": [
        {
          "output_type": "stream",
          "name": "stdout",
          "text": [
            "Enter a number: 3.254124\n",
            "3.254124 has a whole point 3 and decimal 0.25\n",
            "3.254124 has a whole point 3 and decimal 0.254124\n"
          ]
        }
      ]
    },
    {
      "cell_type": "markdown",
      "source": [
        "### ✅ Skill Check 4\n",
        "\n",
        "The following code block defines the x and y coordinates of an object. In the same code cell create a formatted print statement that uses these variables to display the position as a coordinate pair, where each position is displayed with 2 digits to the right of the decimal.  Use the print statement to place the numbers inside parentheses and separated by a comma. Your final result should look like \"(2.33, 5.95)\". Hint:  you can print the parentheses and comma by placing them in quotes, i.e. \"(\" and \",\"."
      ],
      "metadata": {
        "id": "lyX2u4oynzf2"
      }
    },
    {
      "cell_type": "code",
      "source": [
        "x = 2.33456    # x position in meters\n",
        "y = 5.94843    # y position in meters"
      ],
      "metadata": {
        "id": "ZF6FRAZwo7H4"
      },
      "execution_count": 1,
      "outputs": []
    },
    {
      "cell_type": "markdown",
      "source": [
        "## 2.5 Possible errors\n",
        "\n"
      ],
      "metadata": {
        "id": "6uc8QlM9Fr_C"
      }
    },
    {
      "cell_type": "markdown",
      "source": [
        "### Unsupported operands\n",
        "\n",
        "* If we try to do math with variables that are strings (or other non-numeric types), we can get the unsupported operand error:"
      ],
      "metadata": {
        "id": "AF0O4F0CI876"
      }
    },
    {
      "cell_type": "code",
      "source": [
        "a = \"3\"\n",
        "b = \"2\"\n",
        "\n",
        "c = a-b"
      ],
      "metadata": {
        "id": "u9wrxgZAFzFD"
      },
      "execution_count": null,
      "outputs": []
    },
    {
      "cell_type": "markdown",
      "source": [
        "* One possible solution is to convert the variable to an integer or float using the methods described in this chapter"
      ],
      "metadata": {
        "id": "GPve_b4bG65A"
      }
    },
    {
      "cell_type": "markdown",
      "source": [
        "###Invalid literal\n",
        "\n",
        "In this example, we try converting the string \"cat\" to an integer (which doesn't make sense). You can only convert string representations of numbers to integers or floats."
      ],
      "metadata": {
        "id": "G5d2lvQFHkC0"
      }
    },
    {
      "cell_type": "code",
      "source": [
        "int(\"cat\")"
      ],
      "metadata": {
        "id": "z27pu7b3G700"
      },
      "execution_count": null,
      "outputs": []
    },
    {
      "cell_type": "markdown",
      "source": [
        "##**Key Points**\n",
        "* Every variable (and value) has a data type\n",
        "* The Variable Inspector is useful for debugging code and quickly seeing the data type and values of variables\n",
        "* Data types control what operations can be performed on a variable\n",
        "* Data types can be converted into one another\n",
        "* formatted f-strings allow fancy formatting of variables in a print statement"
      ],
      "metadata": {
        "id": "kluW1t-oa5o0"
      }
    },
    {
      "cell_type": "markdown",
      "source": [
        "This tutorial is a modified adaptation of [link text](https://) \"[Python for Physicists](https://lucydot.github.io/python_novice/)\"\n",
        "© [Software Carpentry](http://software-carpentry.org/)\n"
      ],
      "metadata": {
        "id": "5pnXdFvAhvCZ"
      }
    }
  ]
}