{
  "nbformat": 4,
  "nbformat_minor": 0,
  "metadata": {
    "colab": {
      "provenance": [],
      "include_colab_link": true
    },
    "kernelspec": {
      "name": "python3",
      "display_name": "Python 3"
    },
    "language_info": {
      "name": "python"
    }
  },
  "cells": [
    {
      "cell_type": "markdown",
      "metadata": {
        "id": "view-in-github",
        "colab_type": "text"
      },
      "source": [
        "<a href=\"https://colab.research.google.com/github/javierriveroiglesias-design/Computational-Physics/blob/main/Exams/Test_1.ipynb\" target=\"_parent\"><img src=\"https://colab.research.google.com/assets/colab-badge.svg\" alt=\"Open In Colab\"/></a>"
      ]
    },
    {
      "cell_type": "markdown",
      "source": [
        "Computational Methods, Test 1"
      ],
      "metadata": {
        "id": "MPScCX481lZs"
      }
    },
    {
      "cell_type": "markdown",
      "source": [
        "1. (5 points) Use the following NumPy Arrays to evaluate the Python commands below:"
      ],
      "metadata": {
        "id": "8xDVwTe41ri-"
      }
    },
    {
      "cell_type": "markdown",
      "source": [
        "\n",
        "\n",
        "```\n",
        "x[3]\n",
        "\n",
        "x[:3]\n",
        "\n",
        "y[-1]\n",
        "\n",
        "y[y>4]\n",
        "\n",
        "x[y==8]\n",
        "```\n",
        "\n"
      ],
      "metadata": {
        "id": "k6vWnH2t1-W5"
      }
    },
    {
      "cell_type": "code",
      "source": [
        "import numpy as np\n",
        "x = np.array([3, 6, 7, 2, 0, 2, 5, 5])\n",
        "y = np.array([0, 5, 2, 8, 4, 5, 1, 8])\n",
        "\n",
        "# enter your code here\n",
        "# x[3] will show the [2]\n",
        "# x[:3] will show [3 6 7]\n",
        "# y[-1] will show [8]\n",
        "# y[y>4] will show all values greatear than 4 in y array, so [5 8 5 8]\n",
        "# x[y==8] will show all values from y array in which 8 is equal to in x array, so [2 5]\n",
        "\n",
        "print(x[3])\n",
        "\n",
        "print(x[:3])\n",
        "\n",
        "print(y[-1])\n",
        "\n",
        "print(y[y>4])\n",
        "\n",
        "print(x[y==8])"
      ],
      "metadata": {
        "id": "TLpbZJd81yln",
        "colab": {
          "base_uri": "https://localhost:8080/"
        },
        "outputId": "65f0f007-a7ed-4e5e-c55f-4c6a1763b1b3"
      },
      "execution_count": 2,
      "outputs": [
        {
          "output_type": "stream",
          "name": "stdout",
          "text": [
            "2\n",
            "[3 6 7]\n",
            "8\n",
            "[5 8 5 8]\n",
            "[2 5]\n"
          ]
        }
      ]
    },
    {
      "cell_type": "markdown",
      "source": [
        "2. (5 points) Write down the output of the following commands\n"
      ],
      "metadata": {
        "id": "QK1j6_Dh2TOB"
      }
    },
    {
      "cell_type": "code",
      "source": [
        "np.linspace(0,5,5)\n",
        "np.arange(0,10,2)\n",
        "np.zeros((2,4))"
      ],
      "metadata": {
        "id": "fTV2L2an2ZHq",
        "colab": {
          "base_uri": "https://localhost:8080/"
        },
        "outputId": "dac1980b-1a5f-4172-8e60-c3615459c141"
      },
      "execution_count": 3,
      "outputs": [
        {
          "output_type": "execute_result",
          "data": {
            "text/plain": [
              "array([[0., 0., 0., 0.],\n",
              "       [0., 0., 0., 0.]])"
            ]
          },
          "metadata": {},
          "execution_count": 3
        }
      ]
    },
    {
      "cell_type": "code",
      "source": [
        "# linespace will create will create an array from 0-5 which will be [0 1 2 3 4]\n",
        "# arange will create an array from 0-10 by 2 which will be [0 2 4 6 8]\n",
        "# zeros will create an array with 2 rows and 4 columns filled with 0's\n",
        "print(np.linspace(0,5,5))\n",
        "print(np.arange(0,10,2))\n",
        "print(np.zeros((2,4)))"
      ],
      "metadata": {
        "colab": {
          "base_uri": "https://localhost:8080/"
        },
        "id": "3snm3QDF-2Qn",
        "outputId": "15a88c70-e64b-4b2f-ad21-d847778b616a"
      },
      "execution_count": 4,
      "outputs": [
        {
          "output_type": "stream",
          "name": "stdout",
          "text": [
            "[0.   1.25 2.5  3.75 5.  ]\n",
            "[0 2 4 6 8]\n",
            "[[0. 0. 0. 0.]\n",
            " [0. 0. 0. 0.]]\n"
          ]
        }
      ]
    },
    {
      "cell_type": "markdown",
      "source": [
        "3. (5 points) Calculate the sum of the squares of integers from 1 to 100. Use any method.\n"
      ],
      "metadata": {
        "id": "NFZQkXpb2gvf"
      }
    },
    {
      "cell_type": "code",
      "source": [
        "# enter your code here\n",
        "total = 0\n",
        "for i in range (1,101):\n",
        "    total += i**2\n",
        "print(total)"
      ],
      "metadata": {
        "id": "rfx6sDU52lqt",
        "colab": {
          "base_uri": "https://localhost:8080/"
        },
        "outputId": "6b02bd00-024e-4136-e8c2-94c16b3ba707"
      },
      "execution_count": 17,
      "outputs": [
        {
          "output_type": "stream",
          "name": "stdout",
          "text": [
            "338350\n"
          ]
        }
      ]
    },
    {
      "cell_type": "markdown",
      "source": [
        "4. (5 points) Given a Python list of integers A, create a new list B that only contains those elements of A that are positive. Use a for loop (not logical indexing).\n"
      ],
      "metadata": {
        "id": "5OjLlDzj2oGS"
      }
    },
    {
      "cell_type": "code",
      "source": [
        "# enter your code here[\n",
        "A = [-1, -4, -6, -1000, -1354212, 1231, 2, 323, 4341, 123, -21, 2321, -12, 2113, -312]\n",
        "B = []\n",
        "for num in A:\n",
        "    if num > 0:\n",
        "        B.append(num)\n",
        "print(B)"
      ],
      "metadata": {
        "id": "f_gZwt0y2tth",
        "colab": {
          "base_uri": "https://localhost:8080/"
        },
        "outputId": "a2aea0e5-acd3-48e0-fe6a-7b0b6a45bd47"
      },
      "execution_count": 19,
      "outputs": [
        {
          "output_type": "stream",
          "name": "stdout",
          "text": [
            "[1231, 2, 323, 4341, 123, 2321, 2113]\n"
          ]
        }
      ]
    },
    {
      "cell_type": "markdown",
      "source": [
        "5. (5 points) (a) Write down the output of the following Python program in the box below. Only show what will be printed."
      ],
      "metadata": {
        "id": "N3kpzvX42uif"
      }
    },
    {
      "cell_type": "code",
      "source": [
        "# what I think the python code will do below is create 3 columns and the first column will be 1-6 because it's going to list the elements in the array.\n",
        "# the second column is going to be all positive numbers from the array and they're going to be added on to another as the for loop runs.\n",
        "# the third column is going to be all the negative numbers from the array and bee added on to each other as well.\n",
        "A = [1, -2, 3, -4, 5, -6]\n",
        "s1 = 0\n",
        "s2 = 0\n",
        "for n in A:\n",
        "     if n > 0:\n",
        "         s1 += n\n",
        "     else:\n",
        "         s2 += n\n",
        "     print(f'{n:2} {s1:2} {s2:2}')"
      ],
      "metadata": {
        "id": "EpP795dk2zxZ",
        "colab": {
          "base_uri": "https://localhost:8080/"
        },
        "outputId": "abf9a4a4-0694-467e-8957-552d4e52fa3c"
      },
      "execution_count": 20,
      "outputs": [
        {
          "output_type": "stream",
          "name": "stdout",
          "text": [
            " 1  1  0\n",
            "-2  1 -2\n",
            " 3  4 -2\n",
            "-4  4 -6\n",
            " 5  9 -6\n",
            "-6  9 -12\n"
          ]
        }
      ]
    },
    {
      "cell_type": "markdown",
      "source": [
        "6. (5 points) (a) Write down the output of the following Python program in the box below. Only show what will be printed.\n"
      ],
      "metadata": {
        "id": "qKi-ESMD3AMs"
      }
    },
    {
      "cell_type": "code",
      "source": [
        "# what's I think is going to happen in this code it'll have two columns, the first being the index and elements for the range and the second column being for the 's' value which is going to add +1 in the range 4 to the value number before it.\n",
        "s = 0\n",
        "for n in range(4):\n",
        "    for x in range(n+1):\n",
        "       s += 1\n",
        "    print(f'{n}  {s}')"
      ],
      "metadata": {
        "id": "LR9TnO5E3DPn",
        "colab": {
          "base_uri": "https://localhost:8080/"
        },
        "outputId": "a513d787-f898-4fa5-bae6-0546a7ed0a1c"
      },
      "execution_count": 8,
      "outputs": [
        {
          "output_type": "stream",
          "name": "stdout",
          "text": [
            "0  1\n",
            "1  3\n",
            "2  6\n",
            "3  10\n"
          ]
        }
      ]
    },
    {
      "cell_type": "markdown",
      "source": [
        "7. (5 points) Write some Python code using the NumPy library to calculate the speed of an object in free fall:\n",
        "Prompt the user to enter the height $h$ from which the object is dropped.\n",
        "Calculate the velocity using $v=\\sqrt{2gh}$ , where $g=9.8$ m/s$^2$.\n",
        "Print a message displaying and labeling the velocity rounded to 2 decimal places\n",
        "Print a warning message if the speed exceeds half the speed of light, where $c=3\\times 10^8$ m/s. The message should read:  “The object is approaching the speed of light”."
      ],
      "metadata": {
        "id": "VL6rkGj33JEy"
      }
    },
    {
      "cell_type": "code",
      "source": [
        "# enter your code here"
      ],
      "metadata": {
        "id": "8Rf6kDcL3bLu"
      },
      "execution_count": 9,
      "outputs": []
    },
    {
      "cell_type": "markdown",
      "source": [
        "8. (5 points) Create a  NumPy array (100 rows and 4 columns) containing the following:\n",
        "* Column 1:  angle $\\theta$ - linearly spaced values between 0 and\n",
        "* Column 2: $\\sin \\theta$  \n",
        "* Column 3: $\\cos \\theta$\n",
        "* Column 4:  average of the values in columns 2 and 3"
      ],
      "metadata": {
        "id": "jOY79Luj3d4t"
      }
    },
    {
      "cell_type": "code",
      "source": [
        "# enter your code here"
      ],
      "metadata": {
        "id": "FfAsJUPi3thM"
      },
      "execution_count": 10,
      "outputs": []
    },
    {
      "cell_type": "markdown",
      "source": [
        "9. (5 points) In this problem, you will explore a random walk in which the motion of a particle is controlled by a coin toss. If the coin is heads, move one unit to the right (+1), if tails, move one unit to the left (–1). Here’s the procedure:\n",
        "* Ask the user to input the total number of steps for the random walk\n",
        "* Start the particle at the origin.\n",
        "* Pick a random number to move the particle left or right by one unit.\n",
        "* Repeat for a total of N steps\n",
        "* After the walk is complete, print the position of the particle\n",
        "\n",
        "     You can use any method you like to solve this problem"
      ],
      "metadata": {
        "id": "2WbX89BE3w1b"
      }
    },
    {
      "cell_type": "code",
      "source": [
        "# enter your code here"
      ],
      "metadata": {
        "id": "FtBYvZ9n3tft"
      },
      "execution_count": 11,
      "outputs": []
    },
    {
      "cell_type": "markdown",
      "source": [
        "10. (5 points) The Liebnitz formula for pi is:\n",
        "\n",
        "$\\pi \\approx 4 \\sum_{k=o}^N \\frac{(-1)^k}{2k+1}  \\approx 4\\cdot \\left[ 1-\\frac{1}{3} + \\frac{1}{5} - \\frac{1}{7} + \\frac{1}{9}+ \\cdots \\right]$\n",
        "                             \n",
        "* Write some Python code that prompts the user for the upper limit on the summation N and calculates the series.\n",
        "* Calculate the percent error of your approximation:  $error=\\left| \\frac{estimate-actual}{actual} \\right|\\times 100\\%$\n",
        "\n",
        "* print your estimated value of pi and the percent error along with a descriptive message\n",
        "* Use any method you like."
      ],
      "metadata": {
        "id": "XGBijCBt4A3b"
      }
    },
    {
      "cell_type": "code",
      "source": [
        "# enter your code here"
      ],
      "metadata": {
        "id": "u-5wiTjr4dHC"
      },
      "execution_count": 12,
      "outputs": []
    }
  ]
}