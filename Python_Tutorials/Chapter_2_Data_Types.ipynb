{
  "nbformat": 4,
  "nbformat_minor": 0,
  "metadata": {
    "colab": {
      "provenance": [],
      "toc_visible": true,
      "include_colab_link": true
    },
    "kernelspec": {
      "name": "python3",
      "display_name": "Python 3"
    }
  },
  "cells": [
    {
      "cell_type": "markdown",
      "metadata": {
        "id": "view-in-github",
        "colab_type": "text"
      },
      "source": [
        "<a href=\"https://colab.research.google.com/github/javierriveroiglesias-design/Computational-Physics/blob/main/Python_Tutorials/Chapter_2_Data_Types.ipynb\" target=\"_parent\"><img src=\"https://colab.research.google.com/assets/colab-badge.svg\" alt=\"Open In Colab\"/></a>"
      ]
    },
    {
      "cell_type": "markdown",
      "source": [
        "# Chapter 2 - Data Types"
      ],
      "metadata": {
        "id": "Zs1hse2JWxg2"
      }
    },
    {
      "cell_type": "markdown",
      "source": [
        "Objectives:\n",
        "*  Learn about data types in Python including:  integer, float, boolean and string\n",
        "*  Learn how to convert one data type into another\n",
        "* learn how to use formatted printing"
      ],
      "metadata": {
        "id": "mYx7rd9VHabD"
      }
    },
    {
      "cell_type": "markdown",
      "source": [
        "##**2.0 Every variable (and value) has a type**\n",
        "* **Integer** (int): represents positive or negative whole numbers like 3 or -512.\n",
        "* **Floating point number** (float): represents real numbers like 3.14159 or -2.5.\n",
        "* **Complex**: Python uses `j` as the complex unit, so `c = 2 + 3j` is a complex number (assuming you haven't redefined `j` as a variable).\n",
        "* **Character string** (usually called “string”, str): text contained inside quotes like 'hello' or \"howdy\" (single and double quotes both work). The quote marks aren't printed when the string is displayed.\n",
        "* **Boolean** (bool):  variables that store True or False values. These variable are useful in loops and `if statements` that will be discussed later.\n",
        "\n"
      ],
      "metadata": {
        "id": "QIGhHIg1lqT5"
      }
    },
    {
      "cell_type": "markdown",
      "source": [
        "Let's define a few variables and examine their data types."
      ],
      "metadata": {
        "id": "BnrloF64BMvj"
      }
    },
    {
      "cell_type": "code",
      "source": [
        "x = 4           # integer\n",
        "y = 4.2         # float\n",
        "c = 1 + 2j      # complex\n",
        "a = 'dog'       # string\n",
        "happy = True    # boolean"
      ],
      "metadata": {
        "id": "qzzY2dgHB6Eb"
      },
      "execution_count": 25,
      "outputs": []
    },
    {
      "cell_type": "markdown",
      "source": [
        "Notice that in Jupyter Notebooks, number values are colored dark green, strings are red and Boolean values are blue.\n",
        "\n",
        "We can check the data type of a variable in two ways:\n",
        "*  Use the `type` function (hard way)\n",
        "*  Use the variable inspector (easy way)\n",
        "\n",
        "Here's an example of how to display the data type of our 4 variables using the `print()` and `type()` functions (run it to see the results):"
      ],
      "metadata": {
        "id": "C97zTdryDDep"
      }
    },
    {
      "cell_type": "code",
      "source": [
        "print('data type of x is',type(x))\n",
        "print('data type of y is',type(y))\n",
        "print('data type of c is',type(c))\n",
        "print('data type of a is',type(a))\n",
        "print('data type of happy is',type(happy))\n"
      ],
      "metadata": {
        "id": "oMmLhMxeErQm",
        "outputId": "6dfbdd27-2c80-4176-f915-5da4513dfb39",
        "colab": {
          "base_uri": "https://localhost:8080/"
        }
      },
      "execution_count": 26,
      "outputs": [
        {
          "output_type": "stream",
          "name": "stdout",
          "text": [
            "data type of x is <class 'int'>\n",
            "data type of y is <class 'float'>\n",
            "data type of c is <class 'complex'>\n",
            "data type of a is <class 'str'>\n",
            "data type of happy is <class 'bool'>\n"
          ]
        }
      ]
    },
    {
      "cell_type": "markdown",
      "source": [
        "The next section shows how to use the Variable Inspector."
      ],
      "metadata": {
        "id": "AnTXvKBRFPlk"
      }
    },
    {
      "cell_type": "markdown",
      "source": [
        "##**2.1 The Variable Inspector**\n",
        "The **Variable Inspector** icon may be found on the bottom left corner of this window and it is labeled `{} Variables`.  Click this icon to display the variable inspector. You should see a list of all the variables you have used in this tutorial, their values, and their data types. While the Variable Inspector can be very helpful in debugging your code, be aware that it can slow down execution of complex code while it is open. Thus, you may want to only open it when it is needed.\n",
        "\n",
        "The Variable Inspector can be very useful for debugging code, especially when you start writing complex programs."
      ],
      "metadata": {
        "id": "AYRMH8SmDjLi"
      }
    },
    {
      "cell_type": "markdown",
      "source": [
        "## **2.2 Data types control what operations can be performed on a variable**\n",
        "\n",
        "The `+` operator has different effects on numbers and strings. Run the following code, for example:"
      ],
      "metadata": {
        "id": "9RbCM6M185k1"
      }
    },
    {
      "cell_type": "code",
      "source": [
        "x = 3\n",
        "y = 4\n",
        "print(x+y)     # the + operator adds number\n",
        "\n",
        "a = 'Marie '   # notice we added a space at the end of 'Marie'\n",
        "b = 'Curie'\n",
        "print(a+b)     # the + operator concatenates strings"
      ],
      "metadata": {
        "id": "n-cj6wTynLli",
        "outputId": "b04725c9-78e7-4372-a5a1-9e0ae7fe3c2d",
        "colab": {
          "base_uri": "https://localhost:8080/"
        }
      },
      "execution_count": 27,
      "outputs": [
        {
          "output_type": "stream",
          "name": "stdout",
          "text": [
            "7\n",
            "Marie Curie\n"
          ]
        }
      ]
    },
    {
      "cell_type": "markdown",
      "source": [
        "We see that the `+` operator:\n",
        "* adds numbers (either floats or ints)\n",
        "* concatenates strings. In other words, it sticks the two strings together to make a longer string"
      ],
      "metadata": {
        "id": "6uy-uMchnRVL"
      }
    },
    {
      "cell_type": "markdown",
      "source": [
        "### ✅ Skill Check 1\n",
        "See what effect the `*` operator has on strings\n",
        "* Create a code cell\n",
        "* assign a character string to a variable (for example, you could name it `my_string`)\n",
        "* print your string variable as well as the value `10*my_string`.\n",
        "* Your print statement should say something like 'If my_string = \\_\\_\\_, then 10 * my_string = \\_\\_\\_, where your code fills in the blanks \\_\\_\\_.\n"
      ],
      "metadata": {
        "id": "gxpObwG_RL3s"
      }
    },
    {
      "cell_type": "code",
      "source": [
        "my_string = 'Physics'\n",
        "print(\"If my_string = \",my_string,\"then 10 * my_string = \",10 * my_string)"
      ],
      "metadata": {
        "id": "PsPdcj1z-Eym",
        "outputId": "34a5b999-010e-4ad9-9de6-8eabd6ff27b3",
        "colab": {
          "base_uri": "https://localhost:8080/"
        }
      },
      "execution_count": 28,
      "outputs": [
        {
          "output_type": "stream",
          "name": "stdout",
          "text": [
            "If my_string =  Physics then 10 * my_string =  PhysicsPhysicsPhysicsPhysicsPhysicsPhysicsPhysicsPhysicsPhysicsPhysics\n"
          ]
        }
      ]
    },
    {
      "cell_type": "markdown",
      "source": [
        "##**2.3 Data Types can be converted into one another**\n",
        "\n"
      ],
      "metadata": {
        "id": "RI4P_qUvxPMc"
      }
    },
    {
      "cell_type": "markdown",
      "source": [
        "###2.3.1 Convert string to integer\n",
        "A common situation when you might want to convert a string to an integer is when the `input()` statement is used to prompt the user for a number. Run the following:\n"
      ],
      "metadata": {
        "id": "T4SQHa0BaGyH"
      }
    },
    {
      "cell_type": "code",
      "source": [
        "result = input('Enter an integer:  ')\n",
        "print('the data type of ',result,'is',type(result))\n",
        "print('4 *',result,'=',4*result)"
      ],
      "metadata": {
        "id": "W0dyvDD-yFxE",
        "outputId": "42a89d89-cac2-450d-f27c-1e179fefd8d4",
        "colab": {
          "base_uri": "https://localhost:8080/"
        }
      },
      "execution_count": 31,
      "outputs": [
        {
          "output_type": "stream",
          "name": "stdout",
          "text": [
            "Enter an integer:  7.98\n",
            "the data type of  7.98 is <class 'str'>\n",
            "4 * 7.98 = 7.987.987.987.98\n"
          ]
        }
      ]
    },
    {
      "cell_type": "markdown",
      "source": [
        "* The default data type returned by the `input` statement is a string.\n",
        "* This can be confusing:  even though the variable `result` shows its value to be `4`, we can't do any math with it yet because it is a string and not an integer or float.\n",
        "* In the above code cell, we try multiplying our string variable `result` by 4 to get a surprising result!!\n",
        "* To convert this string to an integer we can use `int()`:"
      ],
      "metadata": {
        "id": "PalUkglK-3hY"
      }
    },
    {
      "cell_type": "code",
      "source": [
        "n = int(result)\n",
        "print('the data type of ',n,'is',type(n))\n",
        "print('4 *',n,'=',4*n)"
      ],
      "metadata": {
        "id": "Y_GyGu00_LJB",
        "outputId": "5255e135-3281-4dc9-f347-206698d0c54f",
        "colab": {
          "base_uri": "https://localhost:8080/",
          "height": 181
        }
      },
      "execution_count": 32,
      "outputs": [
        {
          "output_type": "error",
          "ename": "ValueError",
          "evalue": "invalid literal for int() with base 10: '7.98'",
          "traceback": [
            "\u001b[0;31m---------------------------------------------------------------------------\u001b[0m",
            "\u001b[0;31mValueError\u001b[0m                                Traceback (most recent call last)",
            "\u001b[0;32m/tmp/ipython-input-4041919071.py\u001b[0m in \u001b[0;36m<cell line: 0>\u001b[0;34m()\u001b[0m\n\u001b[0;32m----> 1\u001b[0;31m \u001b[0mn\u001b[0m \u001b[0;34m=\u001b[0m \u001b[0mint\u001b[0m\u001b[0;34m(\u001b[0m\u001b[0mresult\u001b[0m\u001b[0;34m)\u001b[0m\u001b[0;34m\u001b[0m\u001b[0;34m\u001b[0m\u001b[0m\n\u001b[0m\u001b[1;32m      2\u001b[0m \u001b[0mprint\u001b[0m\u001b[0;34m(\u001b[0m\u001b[0;34m'the data type of '\u001b[0m\u001b[0;34m,\u001b[0m\u001b[0mn\u001b[0m\u001b[0;34m,\u001b[0m\u001b[0;34m'is'\u001b[0m\u001b[0;34m,\u001b[0m\u001b[0mtype\u001b[0m\u001b[0;34m(\u001b[0m\u001b[0mn\u001b[0m\u001b[0;34m)\u001b[0m\u001b[0;34m)\u001b[0m\u001b[0;34m\u001b[0m\u001b[0;34m\u001b[0m\u001b[0m\n\u001b[1;32m      3\u001b[0m \u001b[0mprint\u001b[0m\u001b[0;34m(\u001b[0m\u001b[0;34m'4 *'\u001b[0m\u001b[0;34m,\u001b[0m\u001b[0mn\u001b[0m\u001b[0;34m,\u001b[0m\u001b[0;34m'='\u001b[0m\u001b[0;34m,\u001b[0m\u001b[0;36m4\u001b[0m\u001b[0;34m*\u001b[0m\u001b[0mn\u001b[0m\u001b[0;34m)\u001b[0m\u001b[0;34m\u001b[0m\u001b[0;34m\u001b[0m\u001b[0m\n",
            "\u001b[0;31mValueError\u001b[0m: invalid literal for int() with base 10: '7.98'"
          ]
        }
      ]
    },
    {
      "cell_type": "markdown",
      "source": [
        "* We see that multiplication makes more sense now that we are multiplying an integer and not a string."
      ],
      "metadata": {
        "id": "KYrRfcWgA-zt"
      }
    },
    {
      "cell_type": "markdown",
      "source": [
        "###2.3.2 Convert string to float\n",
        "The `float()` function converts strings to floats:"
      ],
      "metadata": {
        "id": "jVqROcjuAI82"
      }
    },
    {
      "cell_type": "code",
      "source": [
        "a = '9.8'\n",
        "g = float(a)\n",
        "print('the data type of ',a,'is',type(a))\n",
        "print('the data type of ',g,'is',type(g))"
      ],
      "metadata": {
        "id": "QmlkGDYlAosX",
        "outputId": "bbdefdc4-13bb-40c4-bdb5-ddba69926d5e",
        "colab": {
          "base_uri": "https://localhost:8080/"
        }
      },
      "execution_count": 33,
      "outputs": [
        {
          "output_type": "stream",
          "name": "stdout",
          "text": [
            "the data type of  9.8 is <class 'str'>\n",
            "the data type of  9.8 is <class 'float'>\n"
          ]
        }
      ]
    },
    {
      "cell_type": "markdown",
      "source": [
        "###2.3.3 Convert integers and floats to strings\n",
        "The simplest way to convert a number (either an integer or float) to a string is the `str()` function:"
      ],
      "metadata": {
        "id": "-lpRI9_tBPC9"
      }
    },
    {
      "cell_type": "code",
      "source": [
        "a = str(3.14)\n",
        "print('the data type of ',a,'is',type(a))\n"
      ],
      "metadata": {
        "id": "4IKRVH1hByMu",
        "outputId": "a7de3afb-a137-4964-80e1-4af4ded5de32",
        "colab": {
          "base_uri": "https://localhost:8080/"
        }
      },
      "execution_count": 34,
      "outputs": [
        {
          "output_type": "stream",
          "name": "stdout",
          "text": [
            "the data type of  3.14 is <class 'str'>\n"
          ]
        }
      ]
    },
    {
      "cell_type": "markdown",
      "source": [
        "The method described in the next section describes how to have more control over the appearance of string representations of numbers."
      ],
      "metadata": {
        "id": "XGbgHIm3B_Lx"
      }
    },
    {
      "cell_type": "markdown",
      "source": [
        "###2.3.4 Convert float to integer\n",
        "\n",
        "If we want to remove the digits to the right of the decimal point, we can just use the `int()` command like this:"
      ],
      "metadata": {
        "id": "KxuYKC79MVSv"
      }
    },
    {
      "cell_type": "code",
      "source": [
        "p = int(2.999)\n",
        "print(p)"
      ],
      "metadata": {
        "id": "RNzbyYipMwSi",
        "outputId": "9e8c0b47-15c3-42f1-a085-8a56b8cf0227",
        "colab": {
          "base_uri": "https://localhost:8080/"
        }
      },
      "execution_count": 35,
      "outputs": [
        {
          "output_type": "stream",
          "name": "stdout",
          "text": [
            "2\n"
          ]
        }
      ]
    },
    {
      "cell_type": "markdown",
      "source": [
        "However, if you want to round your float to the nearest integer, you can use `round()`:"
      ],
      "metadata": {
        "id": "t9MRRM6nNVic"
      }
    },
    {
      "cell_type": "code",
      "source": [
        "r = round(2.999)\n",
        "print(r)"
      ],
      "metadata": {
        "id": "MbMqcwZ3Okeu",
        "outputId": "bad80fb5-1063-4476-ebe5-78fbcdd6ad41",
        "colab": {
          "base_uri": "https://localhost:8080/"
        }
      },
      "execution_count": 36,
      "outputs": [
        {
          "output_type": "stream",
          "name": "stdout",
          "text": [
            "3\n"
          ]
        }
      ]
    },
    {
      "cell_type": "markdown",
      "source": [
        "Both of these methods convert floats to ints. You can verify this in the Variable Inspector or by using the `type()` command."
      ],
      "metadata": {
        "id": "IW7P6r4XPEhI"
      }
    },
    {
      "cell_type": "markdown",
      "source": [
        "###2.3.5 Convert Integer to Float\n",
        "\n",
        "We can convert an iteger to a float by using the `float()` command:"
      ],
      "metadata": {
        "id": "8PLYGW0bPdnB"
      }
    },
    {
      "cell_type": "code",
      "source": [
        "q = float(3)\n",
        "print(\"The data type of\",q,\"is\",type(q))"
      ],
      "metadata": {
        "id": "AUE7ta2VP70n",
        "outputId": "3e17fe0b-c1e7-48d7-fe96-ab9ffb8a8973",
        "colab": {
          "base_uri": "https://localhost:8080/"
        }
      },
      "execution_count": 37,
      "outputs": [
        {
          "output_type": "stream",
          "name": "stdout",
          "text": [
            "The data type of 3.0 is <class 'float'>\n"
          ]
        }
      ]
    },
    {
      "cell_type": "markdown",
      "source": [
        "### ✅ Skill Check 2\n",
        "\n",
        "What happens when you add or multiply a float by an integer?  Is the resulting data type float or int?  Write some code to show an example of each. Create a code cell to try out your examples and create a text cell to explain your answer."
      ],
      "metadata": {
        "id": "S4LvX-W-Qf0a"
      }
    },
    {
      "cell_type": "code",
      "source": [
        "k = int(float(5))\n",
        "print(\"The data type of\",k,\"is\",type(k))"
      ],
      "metadata": {
        "id": "GsMnlih6BeD6",
        "outputId": "e0497851-be9c-4d0a-d529-2a02a04e4224",
        "colab": {
          "base_uri": "https://localhost:8080/"
        }
      },
      "execution_count": 44,
      "outputs": [
        {
          "output_type": "stream",
          "name": "stdout",
          "text": [
            "The data type of 5 is <class 'int'>\n"
          ]
        }
      ]
    },
    {
      "cell_type": "markdown",
      "source": [
        "##**2.4 f-strings and formatted print**\n",
        "\n",
        "Let's suppose we are given the a number with more significant digits than we care about. We want to display our number keeping only two decimal places to the right of decimal place. We can do this with a formatted \"f\" string like this:\n",
        "\n",
        "\n",
        "\n"
      ],
      "metadata": {
        "id": "qlF7QiepoM1D"
      }
    },
    {
      "cell_type": "code",
      "source": [
        "x = 316.227766       # float number showing 6 decimal places\n",
        "x_str = f'{x:.2f}'   # string representation of x keeping 2 decimal places\n",
        "print(x_str)         # display the truncated value"
      ],
      "metadata": {
        "id": "wwcU8NGNF08w",
        "outputId": "a0b95021-409c-4dd0-a79a-b0cadced79e9",
        "colab": {
          "base_uri": "https://localhost:8080/"
        }
      },
      "execution_count": 45,
      "outputs": [
        {
          "output_type": "stream",
          "name": "stdout",
          "text": [
            "316.23\n"
          ]
        }
      ]
    },
    {
      "cell_type": "markdown",
      "source": [
        "A formatted string has text inside a pair of quotes, but with the letter \"f\" out in front. We place a variable that we want to format inside curly braces followed by a formatting string. In the above example, the `:.2f` means we want to format the number as a float and keep 2 digits to the right of the decimal point.\n",
        "\n",
        "If we just want to print the formatted number, we can just include the formatted string directly in the print function without the `x_str` variable:"
      ],
      "metadata": {
        "id": "XyJCn3MJG_wh"
      }
    },
    {
      "cell_type": "code",
      "source": [
        "print(f'{x:.2f}')    # simplified formatted print"
      ],
      "metadata": {
        "id": "Vy-gKNO5UR2D",
        "outputId": "078d8505-471e-4afe-e90b-d748078c74d5",
        "colab": {
          "base_uri": "https://localhost:8080/"
        }
      },
      "execution_count": 46,
      "outputs": [
        {
          "output_type": "stream",
          "name": "stdout",
          "text": [
            "316.23\n"
          ]
        }
      ]
    },
    {
      "cell_type": "markdown",
      "source": [
        "Here are more examples for formatting floats:"
      ],
      "metadata": {
        "id": "r85HKsYVUfyV"
      }
    },
    {
      "cell_type": "code",
      "source": [
        "print(f'1st example {x:.2f}')   # displays float with 2 decimal places\n",
        "print(f'2nd example {x:.4f}')   # displays float with 4 decimal places\n",
        "print(f'3rd example {x:12.5f}') # displays float with 5 decimal places and reserves total of 12 places\n",
        "print(f'4th example {x:.2e}')   # scientific notation with 2 digits after the decimal"
      ],
      "metadata": {
        "id": "uyD9fk1QODEv",
        "outputId": "8b0a04eb-04f1-4034-a802-24ec82fa2363",
        "colab": {
          "base_uri": "https://localhost:8080/"
        }
      },
      "execution_count": 47,
      "outputs": [
        {
          "output_type": "stream",
          "name": "stdout",
          "text": [
            "1st example 316.23\n",
            "2nd example 316.2278\n",
            "3rd example    316.22777\n",
            "4th example 3.16e+02\n"
          ]
        }
      ]
    },
    {
      "cell_type": "markdown",
      "source": [
        "For integers you can specify the number of spaces set aside for columns of numbers. The formatting symbol for integers is \"d\". Heres's an example showing what happens when you print a set of numbers with different numbers of digits both with and without formatting. Since our biggest number has 5 digits, we'll reserve 5 digits for each data column using the format `{my_var:5d}`, where you would replace \"`my_var`\" with your variable name."
      ],
      "metadata": {
        "id": "rnhb6cdNC31p"
      }
    },
    {
      "cell_type": "code",
      "source": [
        "a = 2; b = 21043; c = 77; d =764\n",
        "print(f\"{a:5d}  {a:5d}      {a}  {a}\")\n",
        "print(f\"{b:5d}  {b:5d}      {b}  {b}\")\n",
        "print(f\"{c:5d}  {c:5d}      {c}  {c}\")\n",
        "print(f\"{d:5d}  {d:5d}      {d}  {d}\")"
      ],
      "metadata": {
        "id": "_v8qC_qID0o6",
        "colab": {
          "base_uri": "https://localhost:8080/"
        },
        "outputId": "683c085d-2aac-4856-e3e1-1b6379ae1f52"
      },
      "execution_count": 48,
      "outputs": [
        {
          "output_type": "stream",
          "name": "stdout",
          "text": [
            "    2      2      2  2\n",
            "21043  21043      21043  21043\n",
            "   77     77      77  77\n",
            "  764    764      764  764\n"
          ]
        }
      ]
    },
    {
      "cell_type": "markdown",
      "source": [
        "Notice how the first two columns that are formated are nicely lined up (and right-justified), while the last two columns aren't. As we'll see later, formatted print statements are particularly useful when saving data to text files."
      ],
      "metadata": {
        "id": "QG9HulLQFLdX"
      }
    },
    {
      "cell_type": "markdown",
      "source": [
        "You can get fancy and include text and multiple formatted variables in the same print statement like this:"
      ],
      "metadata": {
        "id": "PX0aIeDqWB5I"
      }
    },
    {
      "cell_type": "code",
      "source": [
        "x = 4.334565   # x measurement\n",
        "y = 12.4848    # y measurement\n",
        "print(f'My measurements are x = {x:.2f} and y = {y:.2f}')"
      ],
      "metadata": {
        "id": "8sUfQcTrQ3YG",
        "colab": {
          "base_uri": "https://localhost:8080/"
        },
        "outputId": "aa217468-f0a2-4967-ff1f-85142c2fd446"
      },
      "execution_count": 49,
      "outputs": [
        {
          "output_type": "stream",
          "name": "stdout",
          "text": [
            "My measurements are x = 4.33 and y = 12.48\n"
          ]
        }
      ]
    },
    {
      "cell_type": "markdown",
      "source": [
        "Remember, the variables go inside curly braces with the formatting."
      ],
      "metadata": {
        "id": "rNgEe80wXVIp"
      }
    },
    {
      "cell_type": "markdown",
      "source": [
        "### ✅ Skill Check 3\n",
        "\n",
        "Write some code to prompt the user to enter a floating-point number. Break the number into its integer part (numbers to the left of the decimal) and the fractional part (numbers to the right of the decimal). Use a single print statement to display the original number, the whole part and the decimal part. Your print statement should produce a result that is easy to understand to the user."
      ],
      "metadata": {
        "id": "G2DsbKwjljoP"
      }
    },
    {
      "cell_type": "code",
      "source": [
        "x = float(input(\"Enter a number: \"))\n",
        "xL = int(x) # Whole number of the input\n",
        "xR = x - xL # Decimal part of the input\n",
        "print(f'{x} has a whole point {xL} and decimal {xR:.2f}') # Rounded decimal\n",
        "print(f'{x} has a whole point {xL} and decimal {xR}')"
      ],
      "metadata": {
        "colab": {
          "base_uri": "https://localhost:8080/"
        },
        "id": "XsvHULupRRF1",
        "outputId": "fbec492c-3ea3-432c-ab01-f104507439b6"
      },
      "execution_count": 50,
      "outputs": [
        {
          "output_type": "stream",
          "name": "stdout",
          "text": [
            "Enter a number: 8.88\n",
            "8.88 has a whole point 8 and decimal 0.88\n",
            "8.88 has a whole point 8 and decimal 0.8800000000000008\n"
          ]
        }
      ]
    },
    {
      "cell_type": "markdown",
      "source": [
        "### ✅ Skill Check 4\n",
        "\n",
        "The following code block defines the x and y coordinates of an object. In the same code cell create a formatted print statement that uses these variables to display the position as a coordinate pair, where each position is displayed with 2 digits to the right of the decimal.  Use the print statement to place the numbers inside parentheses and separated by a comma. Your final result should look like \"(2.33, 5.95)\". Hint:  you can print the parentheses and comma by placing them in quotes, i.e. \"(\" and \",\"."
      ],
      "metadata": {
        "id": "lyX2u4oynzf2"
      }
    },
    {
      "cell_type": "code",
      "source": [
        "x = 2.33456    # x position in meters\n",
        "y = 5.94843    # y position in meters\n",
        "print(f\"({x:.2f},{y:.2f})\")"
      ],
      "metadata": {
        "id": "ZF6FRAZwo7H4",
        "outputId": "a925c018-85a3-411e-ec54-6ffa0aa9af46",
        "colab": {
          "base_uri": "https://localhost:8080/"
        }
      },
      "execution_count": 56,
      "outputs": [
        {
          "output_type": "stream",
          "name": "stdout",
          "text": [
            "(2.33,5.95)\n"
          ]
        }
      ]
    },
    {
      "cell_type": "markdown",
      "source": [
        "## 2.5 Possible errors\n",
        "\n"
      ],
      "metadata": {
        "id": "6uc8QlM9Fr_C"
      }
    },
    {
      "cell_type": "markdown",
      "source": [
        "### Unsupported operands\n",
        "\n",
        "* If we try to do math with variables that are strings (or other non-numeric types), we can get the unsupported operand error:"
      ],
      "metadata": {
        "id": "AF0O4F0CI876"
      }
    },
    {
      "cell_type": "code",
      "source": [
        "a = \"3\"\n",
        "b = \"2\"\n",
        "\n",
        "c = a-b"
      ],
      "metadata": {
        "id": "u9wrxgZAFzFD",
        "outputId": "d8318a62-78d9-46c2-8966-1bc3c5171d62",
        "colab": {
          "base_uri": "https://localhost:8080/",
          "height": 181
        }
      },
      "execution_count": 57,
      "outputs": [
        {
          "output_type": "error",
          "ename": "TypeError",
          "evalue": "unsupported operand type(s) for -: 'str' and 'str'",
          "traceback": [
            "\u001b[0;31m---------------------------------------------------------------------------\u001b[0m",
            "\u001b[0;31mTypeError\u001b[0m                                 Traceback (most recent call last)",
            "\u001b[0;32m/tmp/ipython-input-3837508904.py\u001b[0m in \u001b[0;36m<cell line: 0>\u001b[0;34m()\u001b[0m\n\u001b[1;32m      2\u001b[0m \u001b[0mb\u001b[0m \u001b[0;34m=\u001b[0m \u001b[0;34m\"2\"\u001b[0m\u001b[0;34m\u001b[0m\u001b[0;34m\u001b[0m\u001b[0m\n\u001b[1;32m      3\u001b[0m \u001b[0;34m\u001b[0m\u001b[0m\n\u001b[0;32m----> 4\u001b[0;31m \u001b[0mc\u001b[0m \u001b[0;34m=\u001b[0m \u001b[0ma\u001b[0m\u001b[0;34m-\u001b[0m\u001b[0mb\u001b[0m\u001b[0;34m\u001b[0m\u001b[0;34m\u001b[0m\u001b[0m\n\u001b[0m",
            "\u001b[0;31mTypeError\u001b[0m: unsupported operand type(s) for -: 'str' and 'str'"
          ]
        }
      ]
    },
    {
      "cell_type": "markdown",
      "source": [
        "* One possible solution is to convert the variable to an integer or float using the methods described in this chapter"
      ],
      "metadata": {
        "id": "GPve_b4bG65A"
      }
    },
    {
      "cell_type": "markdown",
      "source": [
        "###Invalid literal\n",
        "\n",
        "In this example, we try converting the string \"cat\" to an integer (which doesn't make sense). You can only convert string representations of numbers to integers or floats."
      ],
      "metadata": {
        "id": "G5d2lvQFHkC0"
      }
    },
    {
      "cell_type": "code",
      "source": [
        "int(\"cat\")"
      ],
      "metadata": {
        "id": "z27pu7b3G700",
        "outputId": "3f343c93-f430-447d-d715-c40717cbb32e",
        "colab": {
          "base_uri": "https://localhost:8080/",
          "height": 145
        }
      },
      "execution_count": 58,
      "outputs": [
        {
          "output_type": "error",
          "ename": "ValueError",
          "evalue": "invalid literal for int() with base 10: 'cat'",
          "traceback": [
            "\u001b[0;31m---------------------------------------------------------------------------\u001b[0m",
            "\u001b[0;31mValueError\u001b[0m                                Traceback (most recent call last)",
            "\u001b[0;32m/tmp/ipython-input-4294794279.py\u001b[0m in \u001b[0;36m<cell line: 0>\u001b[0;34m()\u001b[0m\n\u001b[0;32m----> 1\u001b[0;31m \u001b[0mint\u001b[0m\u001b[0;34m(\u001b[0m\u001b[0;34m\"cat\"\u001b[0m\u001b[0;34m)\u001b[0m\u001b[0;34m\u001b[0m\u001b[0;34m\u001b[0m\u001b[0m\n\u001b[0m",
            "\u001b[0;31mValueError\u001b[0m: invalid literal for int() with base 10: 'cat'"
          ]
        }
      ]
    },
    {
      "cell_type": "markdown",
      "source": [
        "##**Key Points**\n",
        "* Every variable (and value) has a data type\n",
        "* The Variable Inspector is useful for debugging code and quickly seeing the data type and values of variables\n",
        "* Data types control what operations can be performed on a variable\n",
        "* Data types can be converted into one another\n",
        "* formatted f-strings allow fancy formatting of variables in a print statement"
      ],
      "metadata": {
        "id": "kluW1t-oa5o0"
      }
    },
    {
      "cell_type": "markdown",
      "source": [
        "This tutorial is a modified adaptation of [link text](https://) \"[Python for Physicists](https://lucydot.github.io/python_novice/)\"\n",
        "© [Software Carpentry](http://software-carpentry.org/)\n"
      ],
      "metadata": {
        "id": "5pnXdFvAhvCZ"
      }
    }
  ]
}