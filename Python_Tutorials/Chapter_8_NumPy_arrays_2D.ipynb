{
  "nbformat": 4,
  "nbformat_minor": 0,
  "metadata": {
    "colab": {
      "provenance": [],
      "toc_visible": true,
      "include_colab_link": true
    },
    "kernelspec": {
      "name": "python3",
      "display_name": "Python 3"
    },
    "language_info": {
      "name": "python"
    }
  },
  "cells": [
    {
      "cell_type": "markdown",
      "metadata": {
        "id": "view-in-github",
        "colab_type": "text"
      },
      "source": [
        "<a href=\"https://colab.research.google.com/github/javierriveroiglesias-design/Computational-Physics/blob/main/Python_Tutorials/Chapter_8_NumPy_arrays_2D.ipynb\" target=\"_parent\"><img src=\"https://colab.research.google.com/assets/colab-badge.svg\" alt=\"Open In Colab\"/></a>"
      ]
    },
    {
      "cell_type": "markdown",
      "source": [
        "#Chapter 8 - Multidimensional NumPy Arrays\n",
        "\n",
        "Goals\n",
        "* Create, use and modify multidimensional NumPy arrays (2D, 3D, etc.)\n",
        "* Apply functions to multidimensional arrays\n",
        "* Read in a comma-separated-value (csv) data file\n",
        "\n",
        "\n",
        "\n",
        "\n"
      ],
      "metadata": {
        "id": "jLfkkSpUxQqK"
      }
    },
    {
      "cell_type": "markdown",
      "source": [
        "## **8.0 Multidimensional Arrays**\n",
        "\n",
        "This chapter describes how to create, apply and extract data from multi-dimensional arrays in 2D, 3D and higher dimensions.\n"
      ],
      "metadata": {
        "id": "rzV74eSprw7H"
      }
    },
    {
      "cell_type": "markdown",
      "source": [
        "## **8.1 Creating multidimensional arrays**\n",
        "\n",
        "\n"
      ],
      "metadata": {
        "id": "WQEopYBpcjn_"
      }
    },
    {
      "cell_type": "markdown",
      "source": [
        "\n",
        "\n",
        "### **8.1.1 Creating 2D arrays**\n",
        "\n",
        "* 2D Arrays are specified by an `(n,m)` tuple\n",
        "* The first parameter `n` specifies the number rows\n",
        "* The second parameter `m` specifies the number of columns.\n",
        "\n",
        "\n",
        "\n"
      ],
      "metadata": {
        "id": "h7tbZmzWajuY"
      }
    },
    {
      "cell_type": "markdown",
      "source": [
        "### 🔆 Example:  Creating 2D array filled with zeros\n",
        "\n",
        "* To fill a $2\\times 3$ array (2 rows and 3 columns) with zeros, we can use the `np.zeros((n,m))` command.\n",
        "* The \"double parentheses\" are necessary, since the inner parentheses create a \"tuple\" which the `np.zeros()` function expects."
      ],
      "metadata": {
        "id": "TVS9pmpQXum0"
      }
    },
    {
      "cell_type": "code",
      "source": [
        "import numpy as np\n",
        "\n",
        "A = np.zeros((2,3))\n",
        "print(A)"
      ],
      "metadata": {
        "id": "8aaTFInWa8DL",
        "colab": {
          "base_uri": "https://localhost:8080/"
        },
        "outputId": "71d0fcab-e89a-4b7a-8135-ef95c037f48a"
      },
      "execution_count": 1,
      "outputs": [
        {
          "output_type": "stream",
          "name": "stdout",
          "text": [
            "[[0. 0. 0.]\n",
            " [0. 0. 0.]]\n"
          ]
        }
      ]
    },
    {
      "cell_type": "markdown",
      "source": [
        "### 🔆 Example: Creating an array of random integers\n",
        "\n",
        "In the following example, we fill a 2x5 array with random integers between 1 and 9 inclusive.\n",
        "* We specify the size of the array to have 3 rows and 5 columns using the `size=(3,5)` parameter.\n",
        "* We use the `endpoint=True` parameter to tell Python to includ the upper limit (9 in this example)."
      ],
      "metadata": {
        "id": "uc8ILWp8tbQ6"
      }
    },
    {
      "cell_type": "code",
      "source": [
        "rng = np.random.default_rng()        # create random number Generator\n",
        "\n",
        "A = rng.integers(1, 9, size=(3,5),endpoint=True)\n",
        "print(A)"
      ],
      "metadata": {
        "id": "zR-AGcHtvObX",
        "colab": {
          "base_uri": "https://localhost:8080/"
        },
        "outputId": "666f5cda-2b85-4f8f-8c78-5a90193ecaa7"
      },
      "execution_count": 2,
      "outputs": [
        {
          "output_type": "stream",
          "name": "stdout",
          "text": [
            "[[4 4 1 4 3]\n",
            " [3 2 1 5 2]\n",
            " [1 1 7 5 7]]\n"
          ]
        }
      ]
    },
    {
      "cell_type": "markdown",
      "source": [
        "### ✅ Skill Check 1\n",
        "\n",
        "Create a 2D array with 6 columns and 3 rows. Each element should be a random  integer whose value satisfies $1 \\leq x \\leq 4$. Print the array."
      ],
      "metadata": {
        "id": "tR6cijdPNuwM"
      }
    },
    {
      "cell_type": "code",
      "source": [
        "rng = np.random.default_rng()\n",
        "\n",
        "A = rng.integers(1, 4, size=(3,6),endpoint=True)\n",
        "print(A)"
      ],
      "metadata": {
        "id": "AtkbyeHFfz5J",
        "colab": {
          "base_uri": "https://localhost:8080/"
        },
        "outputId": "9f1be39d-3e86-4e64-9210-8323427f4e9e"
      },
      "execution_count": 3,
      "outputs": [
        {
          "output_type": "stream",
          "name": "stdout",
          "text": [
            "[[3 4 3 4 4 4]\n",
            " [4 4 2 3 1 1]\n",
            " [1 3 4 3 3 1]]\n"
          ]
        }
      ]
    },
    {
      "cell_type": "markdown",
      "source": [
        "### **8.1.2 Creating 3D arrays**\n",
        "\n",
        "* 3D arrays (i.e. tensors) are specified by a `(p,n,m)` tuple\n",
        "* `p` = first parameter = the number of layers p of the array.\n",
        "* `n` = 2nd parameter = the number rows n\n",
        "* `m` = 3rd parameter = the number of columns m\n",
        "\n",
        "* For example, to fill an  4x2×3  array (2 rows, 3 columns and 4 layers deep) with zeros, we can use the following:"
      ],
      "metadata": {
        "id": "HsGOKMyGqHPb"
      }
    },
    {
      "cell_type": "code",
      "source": [
        "A = np.zeros((4,2,3))\n",
        "print(A)"
      ],
      "metadata": {
        "id": "SOptI2dvqbmt",
        "colab": {
          "base_uri": "https://localhost:8080/"
        },
        "outputId": "c83ba5b6-1183-45b5-971b-1c8152952ece"
      },
      "execution_count": 4,
      "outputs": [
        {
          "output_type": "stream",
          "name": "stdout",
          "text": [
            "[[[0. 0. 0.]\n",
            "  [0. 0. 0.]]\n",
            "\n",
            " [[0. 0. 0.]\n",
            "  [0. 0. 0.]]\n",
            "\n",
            " [[0. 0. 0.]\n",
            "  [0. 0. 0.]]\n",
            "\n",
            " [[0. 0. 0.]\n",
            "  [0. 0. 0.]]]\n"
          ]
        }
      ]
    },
    {
      "cell_type": "markdown",
      "source": [
        "## **8.2 .shape, .size and .ndim attributes**\n",
        "\n",
        "NumPy provides three attributes that characterize the shape and size of NumPy arrays. Remember that attributes do no use parentheses, while methods do.\n",
        "* `.shape' returns a tuple containing the dimensions along each axis of the array.\n",
        "* The number of elements along a given axis) can be extracted as follows:\n",
        "* The first element is the number of rows:  `.shape[0]`\n",
        "* The second element is the number of columns:  `.shape[1]`\n",
        "* Higher-dimensional arrays (3D, 4D, etc.) will have information about the number of layers in the `[2]`, `[3]`,  etc. positions.\n"
      ],
      "metadata": {
        "id": "CSQnmZa61OSZ"
      }
    },
    {
      "cell_type": "code",
      "source": [
        "\n",
        "A = rng.integers(1, 9, size=(3,5),endpoint=True)\n",
        "print(\"A = \")\n",
        "print(A)\n",
        "\n",
        "print()\n",
        "print(\"shape of A is \",A.shape)\n",
        "\n",
        "n_rows = A.shape[0]              # extract the number of rows\n",
        "n_cols = A.shape[1]              # extract the number of columns\n",
        "\n",
        "print(\"number of rows in A    =\",n_rows)\n",
        "print(\"number of columns in A =\",n_cols)"
      ],
      "metadata": {
        "id": "fqz_5UEc1UmP",
        "colab": {
          "base_uri": "https://localhost:8080/"
        },
        "outputId": "1e36a5f4-b361-4ee2-b9dd-9b6360721a40"
      },
      "execution_count": 5,
      "outputs": [
        {
          "output_type": "stream",
          "name": "stdout",
          "text": [
            "A = \n",
            "[[1 4 6 8 6]\n",
            " [1 8 6 3 9]\n",
            " [6 6 1 5 1]]\n",
            "\n",
            "shape of A is  (3, 5)\n",
            "number of rows in A    = 3\n",
            "number of columns in A = 5\n"
          ]
        }
      ]
    },
    {
      "cell_type": "markdown",
      "source": [
        "* `.size` returns the total number of elements in A, which equals the (number of rows) $\\times$ (number of columns) for a 2D array\n",
        "* `.ndim` returns the number of dimensions, which is 2 for a 2D array, 3 for a 3D array, etc."
      ],
      "metadata": {
        "id": "07iMqELV91Oh"
      }
    },
    {
      "cell_type": "code",
      "source": [
        "print(\"size of A (total # elements) =\",A.size)\n",
        "print(\"number of dimensions of A    =\",A.ndim)"
      ],
      "metadata": {
        "id": "Ts5vEW_8-Y54",
        "colab": {
          "base_uri": "https://localhost:8080/"
        },
        "outputId": "ecb9c0fc-fd66-45bd-c4b9-ceacea752981"
      },
      "execution_count": 6,
      "outputs": [
        {
          "output_type": "stream",
          "name": "stdout",
          "text": [
            "size of A (total # elements) = 15\n",
            "number of dimensions of A    = 2\n"
          ]
        }
      ]
    },
    {
      "cell_type": "markdown",
      "source": [
        "### 🔆 Example:  4D Array\n",
        "\n",
        "Here's an example of creating a 4D array:\n",
        "* number of columns = 5\n",
        "* number of rows = 4\n",
        "* number of layers = 3\n",
        "* number of blocks of layers = 2"
      ],
      "metadata": {
        "id": "5XqPNA4dda1A"
      }
    },
    {
      "cell_type": "code",
      "source": [
        "z = np.zeros((2,3,4,5))\n",
        "\n",
        "print(\"shape of z (length along each axis) =\",z.shape)\n",
        "print(\"size of z (total # elements) =\",z.size)\n",
        "print(\"number of dimensions of A    =\",z.ndim)\n",
        "print()\n",
        "print(\"z = \")\n",
        "print(z)"
      ],
      "metadata": {
        "id": "2XRTm171dkVs",
        "colab": {
          "base_uri": "https://localhost:8080/"
        },
        "outputId": "a64ff00f-a694-4f61-f3ce-6f7d59b5a09e"
      },
      "execution_count": 7,
      "outputs": [
        {
          "output_type": "stream",
          "name": "stdout",
          "text": [
            "shape of z (length along each axis) = (2, 3, 4, 5)\n",
            "size of z (total # elements) = 120\n",
            "number of dimensions of A    = 4\n",
            "\n",
            "z = \n",
            "[[[[0. 0. 0. 0. 0.]\n",
            "   [0. 0. 0. 0. 0.]\n",
            "   [0. 0. 0. 0. 0.]\n",
            "   [0. 0. 0. 0. 0.]]\n",
            "\n",
            "  [[0. 0. 0. 0. 0.]\n",
            "   [0. 0. 0. 0. 0.]\n",
            "   [0. 0. 0. 0. 0.]\n",
            "   [0. 0. 0. 0. 0.]]\n",
            "\n",
            "  [[0. 0. 0. 0. 0.]\n",
            "   [0. 0. 0. 0. 0.]\n",
            "   [0. 0. 0. 0. 0.]\n",
            "   [0. 0. 0. 0. 0.]]]\n",
            "\n",
            "\n",
            " [[[0. 0. 0. 0. 0.]\n",
            "   [0. 0. 0. 0. 0.]\n",
            "   [0. 0. 0. 0. 0.]\n",
            "   [0. 0. 0. 0. 0.]]\n",
            "\n",
            "  [[0. 0. 0. 0. 0.]\n",
            "   [0. 0. 0. 0. 0.]\n",
            "   [0. 0. 0. 0. 0.]\n",
            "   [0. 0. 0. 0. 0.]]\n",
            "\n",
            "  [[0. 0. 0. 0. 0.]\n",
            "   [0. 0. 0. 0. 0.]\n",
            "   [0. 0. 0. 0. 0.]\n",
            "   [0. 0. 0. 0. 0.]]]]\n"
          ]
        }
      ]
    },
    {
      "cell_type": "markdown",
      "source": [
        "### **8.4 Accessing elements in multi-dimensional arrays**\n",
        "\n",
        "The following examples show how to access and slice a 2D array.\n"
      ],
      "metadata": {
        "id": "appsieJqv9iB"
      }
    },
    {
      "cell_type": "code",
      "source": [
        "rng = np.random.default_rng()    # create random number Generator\n",
        "A = rng.integers(1, 9, size=(3,5),endpoint=True)\n",
        "\n",
        "print(\"A = \")\n",
        "print(A)                         # prints array A\n",
        "print()                          # prints a blank line\n",
        "\n",
        "print(\"A[0,2]  =  \",A[0,2])      # top row, 3rd column\n",
        "print(\"A[0,:2] =  \",A[0,1:3])    # top row, columns 2 and 3\n",
        "print(\"A[0,:]  =  \",A[0,:])      # top row\n",
        "print(\"A[0,:]  =  \",A[:,1])      # second column\n",
        "print()\n",
        "print(\"A[0:2,0:2] = \")           # 2x2 matrix from top-left corner of A\n",
        "print(A[0:2,0:2])"
      ],
      "metadata": {
        "id": "3HDHk5yBw4Y-",
        "colab": {
          "base_uri": "https://localhost:8080/"
        },
        "outputId": "94e85b3f-ace5-4776-8552-c366fe5977bd"
      },
      "execution_count": 9,
      "outputs": [
        {
          "output_type": "stream",
          "name": "stdout",
          "text": [
            "A = \n",
            "[[3 1 9 5 1]\n",
            " [4 9 7 4 9]\n",
            " [6 8 2 2 9]]\n",
            "\n",
            "A[0,2]  =   9\n",
            "A[0,:2] =   [1 9]\n",
            "A[0,:]  =   [3 1 9 5 1]\n",
            "A[0,:]  =   [1 9 8]\n",
            "\n",
            "A[0:2,0:2] = \n",
            "[[3 1]\n",
            " [4 9]]\n"
          ]
        }
      ]
    },
    {
      "cell_type": "markdown",
      "source": [
        "The following over-writes the top row of our 2D array with zeros.\n",
        "* Note:  we use the `.shape` attribute to automatically determine how many columns are in `A`, which we pass to the `np.zeros()` function."
      ],
      "metadata": {
        "id": "0xwrxzD00um9"
      }
    },
    {
      "cell_type": "code",
      "source": [
        "A[0,:] = np.zeros(A.shape[1])\n",
        "print(A)"
      ],
      "metadata": {
        "id": "W7DILF2a04OV",
        "colab": {
          "base_uri": "https://localhost:8080/"
        },
        "outputId": "7ac141cf-6766-4b4a-b89d-20daf887990d"
      },
      "execution_count": 22,
      "outputs": [
        {
          "output_type": "stream",
          "name": "stdout",
          "text": [
            "[[0 0 0 0 0]\n",
            " [1 1 1 4 1]\n",
            " [1 1 1 2 1]]\n"
          ]
        }
      ]
    },
    {
      "cell_type": "markdown",
      "source": [
        "### ✅ Skill Check 2\n",
        "\n",
        "* Use slicing to set the last column of the `A` array defined above to 1's\n",
        "* print the `A` array\n",
        "\n"
      ],
      "metadata": {
        "id": "K2GmwCCm0j7U"
      }
    },
    {
      "cell_type": "code",
      "source": [
        "A[:,-1] = 1\n",
        "print(A)"
      ],
      "metadata": {
        "id": "ZKrFNChJlfdY",
        "outputId": "57912461-7bf0-488b-e12a-cb84161d579f",
        "colab": {
          "base_uri": "https://localhost:8080/"
        }
      },
      "execution_count": 26,
      "outputs": [
        {
          "output_type": "stream",
          "name": "stdout",
          "text": [
            "[[0 0 0 0 1]\n",
            " [1 1 1 4 1]\n",
            " [1 1 1 2 1]]\n"
          ]
        }
      ]
    },
    {
      "cell_type": "markdown",
      "source": [
        "## **8.5 Working with multi-dimensional arrays**\n",
        "\n"
      ],
      "metadata": {
        "id": "kNSAPvN7dWDg"
      }
    },
    {
      "cell_type": "markdown",
      "source": [
        "### 8.5.1 Create a new array to match size of an existing array\n",
        "\n",
        "* We can use the `.shape` attribute to easily create a new array with the same size as an existing array like this:\n"
      ],
      "metadata": {
        "id": "6REecBXdet-G"
      }
    },
    {
      "cell_type": "code",
      "source": [
        "A = rng.integers(1, 9, size=(3,5),endpoint=True)\n",
        "\n",
        "B = np.zeros(A.shape)     # Array B will have same size as array A\n",
        "print(B)\n"
      ],
      "metadata": {
        "id": "UrAtBiqyduBW",
        "colab": {
          "base_uri": "https://localhost:8080/"
        },
        "outputId": "33bf6b43-2357-409a-bcfa-14f68dca03f6"
      },
      "execution_count": 27,
      "outputs": [
        {
          "output_type": "stream",
          "name": "stdout",
          "text": [
            "[[0. 0. 0. 0. 0.]\n",
            " [0. 0. 0. 0. 0.]\n",
            " [0. 0. 0. 0. 0.]]\n"
          ]
        }
      ]
    },
    {
      "cell_type": "markdown",
      "source": [
        "### 8.5.2 Take the transpose of a 2D array\n",
        "\n",
        "* The transpose flips the rows and columns\n",
        "* We just add a `.T` after our array like this:  `A.T`\n",
        "* We'll take the transpose of the `A` array in the previous section:"
      ],
      "metadata": {
        "id": "QGTHyZz9e65U"
      }
    },
    {
      "cell_type": "code",
      "source": [
        "print(\"original Array, A:\")\n",
        "print(A)\n",
        "print()\n",
        "\n",
        "print(\"transpose of A:\")\n",
        "print(A.T)"
      ],
      "metadata": {
        "id": "Y0j05o9VfIqF",
        "colab": {
          "base_uri": "https://localhost:8080/"
        },
        "outputId": "5156186a-43c1-439b-c3e6-f5f0d806e15a"
      },
      "execution_count": 28,
      "outputs": [
        {
          "output_type": "stream",
          "name": "stdout",
          "text": [
            "original Array, A:\n",
            "[[6 4 5 4 4]\n",
            " [8 9 2 7 8]\n",
            " [3 6 8 3 5]]\n",
            "\n",
            "transpose of A:\n",
            "[[6 8 3]\n",
            " [4 9 6]\n",
            " [5 2 8]\n",
            " [4 7 3]\n",
            " [4 8 5]]\n"
          ]
        }
      ]
    },
    {
      "cell_type": "markdown",
      "source": [
        "### 8.5.3  Reshaping arrays\n",
        "\n",
        "**Flatten**\n",
        "\n",
        "* We can reduce an array to 1D with the `.flatten()` method.\n",
        "* Notice that"
      ],
      "metadata": {
        "id": "IcIawE5ufhZP"
      }
    },
    {
      "cell_type": "code",
      "source": [
        "print(\"flattened version of A\")\n",
        "A_flat = A.flatten()\n",
        "print(A_flat)\n"
      ],
      "metadata": {
        "id": "vCGmWMswfLqP",
        "colab": {
          "base_uri": "https://localhost:8080/"
        },
        "outputId": "693b85be-f52a-4442-a3fd-db52a6e66821"
      },
      "execution_count": 29,
      "outputs": [
        {
          "output_type": "stream",
          "name": "stdout",
          "text": [
            "flattened version of A\n",
            "[6 4 5 4 4 8 9 2 7 8 3 6 8 3 5]\n"
          ]
        }
      ]
    },
    {
      "cell_type": "markdown",
      "source": [
        "**Reshape**\n",
        "\n",
        "* The `.reshape()` method can be used to reorder the elements of an array.\n",
        "* The  `.reshape()` method takes a tuple as an argument:  single number for 1D array, `(n,m)` for 2D array, `(p,n,m)` for a 3D array and so on."
      ],
      "metadata": {
        "id": "leIqVVkFguCc"
      }
    },
    {
      "cell_type": "code",
      "source": [
        "#####  Create a 1x12 array filled with integers\n",
        "print(\"original array. A \")\n",
        "A = np.linspace(1,12,12,dtype=int)\n",
        "print(A)\n",
        "\n",
        "#####  Reshape -> 2x6  (2 rows, 6 columns)\n",
        "print()\n",
        "print(\"A2 = A.reshape((2,6)) \")\n",
        "A2 = A.reshape((2,6))\n",
        "print(A2)\n",
        "print()\n",
        "\n",
        "#####  Reshape -> 3x4  (3 rows, 4 columns)\n",
        "print(\"A3 = A2.reshape((3,4)) \")\n",
        "A3 = A2.reshape((3,4))\n",
        "print(A3)\n",
        "print()\n",
        "\n",
        "#####  Reshape -> 2x2x3  (2 layers, 2 rows, 3 columns) = 3D array\n",
        "print(\"A4 = A3.reshape((2,2,3)) \")\n",
        "A4 = A3.reshape((2,2,3))\n",
        "print(A4)\n"
      ],
      "metadata": {
        "id": "bAczg3gFg4eS",
        "colab": {
          "base_uri": "https://localhost:8080/"
        },
        "outputId": "e77c3966-eb88-4a1d-ae24-b1c4bc1d509f"
      },
      "execution_count": 31,
      "outputs": [
        {
          "output_type": "stream",
          "name": "stdout",
          "text": [
            "original array. A \n",
            "[ 1  2  3  4  5  6  7  8  9 10 11 12]\n",
            "\n",
            "A2 = A.reshape((2,6)) \n",
            "[[ 1  2  3  4  5  6]\n",
            " [ 7  8  9 10 11 12]]\n",
            "\n",
            "A3 = A2.reshape((3,4)) \n",
            "[[ 1  2  3  4]\n",
            " [ 5  6  7  8]\n",
            " [ 9 10 11 12]]\n",
            "\n",
            "A4 = A3.reshape((2,2,3)) \n",
            "[[[ 1  2  3]\n",
            "  [ 4  5  6]]\n",
            "\n",
            " [[ 7  8  9]\n",
            "  [10 11 12]]]\n"
          ]
        }
      ]
    },
    {
      "cell_type": "markdown",
      "source": [
        "### 8.5.4 Analyzing Arrays along Rows or Columns\n",
        "\n",
        "* Suppose you are given a 2D array, and you'd like to know something about the first column."
      ],
      "metadata": {
        "id": "AwohJ8LJk71b"
      }
    },
    {
      "cell_type": "markdown",
      "source": [
        "### 8.5.4 Computing statistics along rows or columns\n",
        "\n",
        "* Suppose you are given a 2D array, and you'd like to know something about the first column.\n",
        "* We can use slicing to extract the column for analysis\n",
        "* We can also specify the dimension we want to analyz"
      ],
      "metadata": {
        "id": "THra9iPEkWm_"
      }
    },
    {
      "cell_type": "code",
      "source": [
        "R = np.linspace(1,15,15)\n",
        "R = R.reshape((5,3))\n",
        "R = R.T\n",
        "print(\"R = \")\n",
        "print(R)\n",
        "\n",
        "ave = R.mean(axis = 0)\n",
        "print()\n",
        "print(\"Column mean = \")\n",
        "print(ave)\n",
        "\n",
        "ave = R.mean(axis = 1)\n",
        "print()\n",
        "print(\"Row mean = \")\n",
        "print(ave)"
      ],
      "metadata": {
        "id": "YzAocxrek9Nd",
        "colab": {
          "base_uri": "https://localhost:8080/"
        },
        "outputId": "c09b53cc-fe8e-4d8e-ad24-77a140a8fb42"
      },
      "execution_count": 33,
      "outputs": [
        {
          "output_type": "stream",
          "name": "stdout",
          "text": [
            "R = \n",
            "[[ 1.  4.  7. 10. 13.]\n",
            " [ 2.  5.  8. 11. 14.]\n",
            " [ 3.  6.  9. 12. 15.]]\n",
            "\n",
            "Column mean = \n",
            "[ 2.  5.  8. 11. 14.]\n",
            "\n",
            "Row mean = \n",
            "[7. 8. 9.]\n"
          ]
        }
      ]
    },
    {
      "cell_type": "markdown",
      "source": [
        "## 8.6 Reading data files in Google Colab\n",
        "\n",
        "Google Colab poses some challenges when reading and writing files due to the way Google handles directories. When we run Python on your laptop, this process will be much simpler.\n",
        "* Step 1 - Download the file `bh_merger.csv` from the Python_Tutorials directory on GitHub and save it on your laptop. This file contains the masses of binary black hole pairs that have merged and given off gravitational waves.\n",
        "* Step 2 - Run the following Code Cell. This will load in the data in from the file and save it as a 2D NumPy array called `data`.\n",
        "* Step 3 - Once the data is successfully read in to the `data` array, the data will be saved in memory, so you can run or rerun the analysis code in the following Code Cells without having to reload the file.\n",
        "\n",
        "Here's what the following Code Cell does to read in the data file:\n",
        "* Import the `google.files` module\n",
        "* Call `uploaded = files.upload()` to launch a file picker. You'll need to navigate to you the `bh_merger.csv` file to load it.\n",
        "* Extract the actual file name from the `uploaded` dictionary using the command `file_name = list(uploaded.keys())[0]`\n",
        "* Finally, we can now use the NumPy command `np.loadtxt(file_name)` to load a file specified by `file_name`.\n",
        "\n",
        "Use of the `np.loadtxt()` command\n",
        "* `np.loadtxt(file_name)` loads a data file with name `file_name`. The file must contain rows of numeric values with equal number of values per row, with each numerica value separated by spaces. The file cannot have any extra header or footer data. Thus, the file must have the form:  \n",
        "```\n",
        "   1.0  2.4  3.6\n",
        "   3.5  0.1  0.4\n",
        "   4.3  2.1  3.5\n",
        "```\n",
        "* If the values are separated by commas as in the following example, we need to specify the delimeter between values is a comma like this:  `np.loadtxt(file_name,delimiter=',')`.  \n",
        "```\n",
        "   1.0, 2.4, 3.6\n",
        "   3.5, 0.1, 0.4\n",
        "   4.3, 2.1, 3.5\n",
        "```\n",
        "* If the file has one or more header lines, we need to skip over them to read the data. We specify the number of lines to skip with the `skiprows` parameter like this:   `np.loadtxt(file_name, skiprows=1,delimiter=',')`.  \n",
        "```\n",
        "   x, y, z\n",
        "   1.0, 2.4, 3.6\n",
        "   3.5, 0.1, 0.4\n",
        "   4.3, 2.1, 3.5\n",
        "```\n",
        "* Our `bh_merger.csv` file has one header line and uses a comma delimiter, so we use the command `data = np.loadtxt(file_name,skiprows=1,delimiter=',')` to read it."
      ],
      "metadata": {
        "id": "cMRDilDnRlNP"
      }
    },
    {
      "cell_type": "code",
      "source": [
        "# Import Libraries\n",
        "from google.colab import files   # used to load files in Google\n",
        "import numpy as np\n",
        "\n",
        "#####  Load Data File\n",
        "uploaded = files.upload()  # This opens a file picker\n",
        "\n",
        "# uploaded is a dictionary: filename -> bytes\n",
        "# Get the first filename\n",
        "file_name = list(uploaded.keys())[0]\n",
        "\n",
        "# Load the data into a NumPy array\n",
        "# Assuming a text file with numeric data, separated by commas\n",
        "#    and with one header line that must be skipped\n",
        "data = np.loadtxt(file_name,skiprows=1,delimiter=',')\n",
        "\n"
      ],
      "metadata": {
        "id": "3ICCaiGe4toq"
      },
      "execution_count": null,
      "outputs": []
    },
    {
      "cell_type": "markdown",
      "source": [
        "The `bh_merger.csv` file contains the following columns of data:\n",
        "* column 1 - mass of first black hole in units of solar masses (i.e. 30 means the black hole has 30 times the mass of the sun).\n",
        "* column 2 - mass of the second black hole\n",
        "* column 3 - distance of the black holes from Earth in units of megaparsecs (Mpc). 1 Mpc = 3.26 million light years.\n",
        "\n",
        "The following Code prints the number of rows, columns and first 5 rows of data.\n"
      ],
      "metadata": {
        "id": "V8rdZgPYBQJy"
      }
    },
    {
      "cell_type": "code",
      "source": [
        "# Inspect the array\n",
        "nrows = data.shape[0]\n",
        "ncols = data.shape[1]\n",
        "print()\n",
        "print(f\"{file_name} contains {nrows} rows and {ncols} columns\")\n",
        "print()\n",
        "print(\"First 5 rows:\")\n",
        "print(data[:5])"
      ],
      "metadata": {
        "id": "Sgc-YjeiZEoa"
      },
      "execution_count": null,
      "outputs": []
    },
    {
      "cell_type": "markdown",
      "source": [
        "### ✅ Skill Check 3\n",
        "\n",
        "The following code shows how to extract the first column of values from the `data` array and name it mass1 (this will contain the masses of one of black holes in the binary system.)\n",
        "* Extract the second column and name it `mass2` (mass of second black hole)\n",
        "* Exctract the third column and name it `dist` (distance of the black holes)"
      ],
      "metadata": {
        "id": "4B0x7n7tDV18"
      }
    },
    {
      "cell_type": "code",
      "source": [
        "mass1 = data[:,0]  # mass one is stored in the first column (index = 0)\n",
        "\n",
        "# your code here\n",
        "\n"
      ],
      "metadata": {
        "id": "C6MlKFVtGcTw"
      },
      "execution_count": null,
      "outputs": []
    },
    {
      "cell_type": "markdown",
      "source": [
        "### ✅ Skill Check 4\n",
        "\n",
        "* Calculate and print the minimum, maximum and average mass for for `mass1`. Use the NumPy vectorized methods\n",
        "* Calculate and print the minimum, maximum and average mass for for `mass2`. Use the NumPy vectorized methods\n",
        "* Calculate and print the minimum, maximum and average distance of the black holes. Use the NumPy vectorized methods.\n",
        "* Convert the distance of the most distant black hole into billions of light years (multiply the distance in Mpc by 3262). For nearby objects, this would be how far back in the past light left the object that we are now seeing. However, these distant black holes are so far away, we would need to take into account the acceleration of the universe after the Big Bang, which only happened about 13.8 billion years ago."
      ],
      "metadata": {
        "id": "3fm-KvoGGsl6"
      }
    },
    {
      "cell_type": "code",
      "source": [
        "# your code here\n"
      ],
      "metadata": {
        "id": "sS1_XDm2f6vG"
      },
      "execution_count": null,
      "outputs": []
    },
    {
      "cell_type": "markdown",
      "source": [
        "### ✅ Skill Check 5\n",
        "\n",
        "* Reshape the the first two columns of the the `data` array to create a single array containing the masses of both black holes.\n",
        "* Calculate the minimum, maximum and average of all the black holes.\n",
        "* Are your values consistent with your stats for `mass1` and `mass2`?"
      ],
      "metadata": {
        "id": "0CmjbuJbL_82"
      }
    },
    {
      "cell_type": "code",
      "source": [
        "# your code here"
      ],
      "metadata": {
        "id": "_R7OkFWJdvzX"
      },
      "execution_count": null,
      "outputs": []
    },
    {
      "cell_type": "markdown",
      "source": [
        "## Key Points\n",
        "* NumPy arrays can be 1D, 2D, 3D, 4D, or any number of dimensions\n",
        "* Fetching values from a multidimensional array uses commas, i.e `A[1,0,3]`\n",
        "* NumPy arrays have many Attributes an Methods to perform operations and gather statistics.\n",
        "* Loading data into Google Colab is more complicated than doing so on your laptop. We showed how to load a comma-separated-value (csv) file and analyze the data"
      ],
      "metadata": {
        "id": "1UCqSGwQYh3_"
      }
    },
    {
      "cell_type": "markdown",
      "source": [
        "This tutorial is an adaptation of \"[Python for Physicists](https://lucydot.github.io/python_novice/)\"\n",
        "© [Software Carpentry](http://software-carpentry.org/)\n"
      ],
      "metadata": {
        "id": "5pnXdFvAhvCZ"
      }
    }
  ]
}