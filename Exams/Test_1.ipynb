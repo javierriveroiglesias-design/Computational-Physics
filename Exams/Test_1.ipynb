{
  "nbformat": 4,
  "nbformat_minor": 0,
  "metadata": {
    "colab": {
      "provenance": [],
      "include_colab_link": true
    },
    "kernelspec": {
      "name": "python3",
      "display_name": "Python 3"
    },
    "language_info": {
      "name": "python"
    }
  },
  "cells": [
    {
      "cell_type": "markdown",
      "metadata": {
        "id": "view-in-github",
        "colab_type": "text"
      },
      "source": [
        "<a href=\"https://colab.research.google.com/github/javierriveroiglesias-design/Computational-Physics/blob/main/Exams/Test_1.ipynb\" target=\"_parent\"><img src=\"https://colab.research.google.com/assets/colab-badge.svg\" alt=\"Open In Colab\"/></a>"
      ]
    },
    {
      "cell_type": "markdown",
      "source": [
        "Computational Methods, Test 1"
      ],
      "metadata": {
        "id": "MPScCX481lZs"
      }
    },
    {
      "cell_type": "markdown",
      "source": [
        "1. (5 points) Use the following NumPy Arrays to evaluate the Python commands below:"
      ],
      "metadata": {
        "id": "8xDVwTe41ri-"
      }
    },
    {
      "cell_type": "markdown",
      "source": [
        "\n",
        "\n",
        "```\n",
        "x[3]\n",
        "\n",
        "x[:3]\n",
        "\n",
        "y[-1]\n",
        "\n",
        "y[y>4]\n",
        "\n",
        "x[y==8]\n",
        "```\n",
        "\n"
      ],
      "metadata": {
        "id": "k6vWnH2t1-W5"
      }
    },
    {
      "cell_type": "code",
      "source": [
        "import numpy as np\n",
        "x = np.array([3, 6, 7, 2, 0, 2, 5, 5])\n",
        "y = np.array([0, 5, 2, 8, 4, 5, 1, 8])\n",
        "\n",
        "# x[3] is going to give [3]\n",
        "# x[:3] is going to give [3 6 7]\n",
        "# y[-1] is going to give [8]\n",
        "# y[y>4] is going to give [5 8 5 8]\n",
        "# x[y==8] is going to give [2 5]\n",
        "\n",
        "# enter your code here\n",
        "print(x[3])\n",
        "\n",
        "print(x[:3])\n",
        "\n",
        "print(y[-1])\n",
        "\n",
        "print(y[y>4])\n",
        "\n",
        "print(x[y==8])"
      ],
      "metadata": {
        "id": "TLpbZJd81yln",
        "outputId": "9178b294-b9ce-480c-9113-0b4deab1e1b3",
        "colab": {
          "base_uri": "https://localhost:8080/"
        }
      },
      "execution_count": 3,
      "outputs": [
        {
          "output_type": "stream",
          "name": "stdout",
          "text": [
            "2\n",
            "[3 6 7]\n",
            "8\n",
            "[5 8 5 8]\n",
            "[2 5]\n"
          ]
        }
      ]
    },
    {
      "cell_type": "markdown",
      "source": [
        "2. (5 points) Write down the output of the following commands\n"
      ],
      "metadata": {
        "id": "QK1j6_Dh2TOB"
      }
    },
    {
      "cell_type": "code",
      "source": [
        "np.linspace(0,5,5)\n",
        "np.arange(0,10,2)\n",
        "np.zeros((2,4))\n",
        "\n",
        "# linspace is going to give [0 1 2 3 4]\n",
        "# arange is going to give [0 2 4 6 8]\n",
        "# zeros is going to give 2 rows and 4 columns of zeros\n",
        "# [0 0 0 0\n",
        "#  0 0 0 0}\n",
        "\n",
        "print(np.linspace(0,5,5))\n",
        "print(np.arange(0,10,2))\n",
        "print(np.zeros((2,4)))"
      ],
      "metadata": {
        "id": "fTV2L2an2ZHq",
        "outputId": "2a2d4810-cc7a-47e6-c5c2-fd541de421c3",
        "colab": {
          "base_uri": "https://localhost:8080/"
        }
      },
      "execution_count": 4,
      "outputs": [
        {
          "output_type": "stream",
          "name": "stdout",
          "text": [
            "[0.   1.25 2.5  3.75 5.  ]\n",
            "[0 2 4 6 8]\n",
            "[[0. 0. 0. 0.]\n",
            " [0. 0. 0. 0.]]\n"
          ]
        }
      ]
    },
    {
      "cell_type": "markdown",
      "source": [
        "3. (5 points) Calculate the sum of the squares of integers from 1 to 100. Use any method.\n"
      ],
      "metadata": {
        "id": "NFZQkXpb2gvf"
      }
    },
    {
      "cell_type": "code",
      "source": [
        "# enter your code here\n",
        "total = 0\n",
        "for i in range (1,101):\n",
        "    total += i**2\n",
        "print(total)"
      ],
      "metadata": {
        "id": "rfx6sDU52lqt",
        "outputId": "dc79b3e7-dd01-4ecb-d53b-ebb4f8882d3d",
        "colab": {
          "base_uri": "https://localhost:8080/"
        }
      },
      "execution_count": 6,
      "outputs": [
        {
          "output_type": "stream",
          "name": "stdout",
          "text": [
            "338350\n"
          ]
        }
      ]
    },
    {
      "cell_type": "markdown",
      "source": [
        "4. (5 points) Given a Python list of integers A, create a new list B that only contains those elements of A that are positive. Use a for loop (not logical indexing).\n"
      ],
      "metadata": {
        "id": "5OjLlDzj2oGS"
      }
    },
    {
      "cell_type": "code",
      "source": [
        "# enter your code here\n",
        "A = [-1, 2, -3, 4, 5, -6, 7, -8, 9, 10, -11, -12, -1000]\n",
        "B = []\n",
        "\n",
        "for num in A:\n",
        "    if num > 0:\n",
        "        B.append(num)\n",
        "print(B)"
      ],
      "metadata": {
        "id": "f_gZwt0y2tth",
        "outputId": "6f320db4-d00e-42cd-a823-5ad9be63c032",
        "colab": {
          "base_uri": "https://localhost:8080/"
        }
      },
      "execution_count": 7,
      "outputs": [
        {
          "output_type": "stream",
          "name": "stdout",
          "text": [
            "[2, 4, 5, 7, 9, 10]\n"
          ]
        }
      ]
    },
    {
      "cell_type": "markdown",
      "source": [
        "5. (5 points) (a) Write down the output of the following Python program in the box below. Only show what will be printed."
      ],
      "metadata": {
        "id": "N3kpzvX42uif"
      }
    },
    {
      "cell_type": "code",
      "source": [
        "A = [1, -2, 3, -4, 5, -6]\n",
        "s1 = 0\n",
        "s2 = 0\n",
        "for n in A:\n",
        "     if n > 0:\n",
        "         s1 += n\n",
        "     else:\n",
        "         s2 += n\n",
        "     print(f'{n:2} {s1:2} {s2:2}')\n",
        "\n",
        "# The code is going to create three columns with the first column being the index for elements in the array.\n",
        "# The second column is going to be for the positive numbers in the array being added up.\n",
        "# The third column is going to be for negative numbers in the array being added up."
      ],
      "metadata": {
        "id": "EpP795dk2zxZ",
        "outputId": "d57c49ee-d48a-4106-a4e6-01b10840a66a",
        "colab": {
          "base_uri": "https://localhost:8080/"
        }
      },
      "execution_count": 8,
      "outputs": [
        {
          "output_type": "stream",
          "name": "stdout",
          "text": [
            " 1  1  0\n",
            "-2  1 -2\n",
            " 3  4 -2\n",
            "-4  4 -6\n",
            " 5  9 -6\n",
            "-6  9 -12\n"
          ]
        }
      ]
    },
    {
      "cell_type": "markdown",
      "source": [
        "6. (5 points) (a) Write down the output of the following Python program in the box below. Only show what will be printed.\n"
      ],
      "metadata": {
        "id": "qKi-ESMD3AMs"
      }
    },
    {
      "cell_type": "code",
      "source": [
        "s = 0\n",
        "for n in range(4):\n",
        "    for x in range(n+1):\n",
        "       s += 1\n",
        "    print(f'{n}  {s}')\n",
        "\n",
        "# The code above is going to create two columns of rows.\n",
        "# The first column is going to be the index for elements in the range.\n",
        "# The second is going to be for 's' which is going to add +1 to the value or number before it until it reaches 3."
      ],
      "metadata": {
        "id": "LR9TnO5E3DPn",
        "outputId": "c1ca7295-2c8b-457b-af1b-66b6a0e76197",
        "colab": {
          "base_uri": "https://localhost:8080/"
        }
      },
      "execution_count": 9,
      "outputs": [
        {
          "output_type": "stream",
          "name": "stdout",
          "text": [
            "0  1\n",
            "1  3\n",
            "2  6\n",
            "3  10\n"
          ]
        }
      ]
    },
    {
      "cell_type": "markdown",
      "source": [
        "7. (5 points) Write some Python code using the NumPy library to calculate the speed of an object in free fall:\n",
        "Prompt the user to enter the height $h$ from which the object is dropped.\n",
        "Calculate the velocity using $v=\\sqrt{2gh}$ , where $g=9.8$ m/s$^2$.\n",
        "Print a message displaying and labeling the velocity rounded to 2 decimal places\n",
        "Print a warning message if the speed exceeds half the speed of light, where $c=3\\times 10^8$ m/s. The message should read:  “The object is approaching the speed of light”."
      ],
      "metadata": {
        "id": "VL6rkGj33JEy"
      }
    },
    {
      "cell_type": "code",
      "source": [
        "# enter your code here\n",
        "g = 9.8 # m/s^2\n",
        "c = 3e8 # m/s\n",
        "\n",
        "h = float(input(\"Enter an interger for a height: \"))\n",
        "\n",
        "v = np.sqrt(2*g*h)\n",
        "\n",
        "print(f\"The velocity of the object for height {h} is {v} m/s\")\n",
        "\n",
        "if v > (0.5*c):\n",
        "    print(\"This object is approaching the speed of light\")"
      ],
      "metadata": {
        "id": "8Rf6kDcL3bLu",
        "outputId": "619863ce-5956-4790-c71c-f4cfd45c36bc",
        "colab": {
          "base_uri": "https://localhost:8080/"
        }
      },
      "execution_count": 10,
      "outputs": [
        {
          "output_type": "stream",
          "name": "stdout",
          "text": [
            "Enter an interger for a height: 10\n",
            "The velocity of the object for height 10.0 is 14.0 m/s\n"
          ]
        }
      ]
    },
    {
      "cell_type": "markdown",
      "source": [
        "8. (5 points) Create a  NumPy array (100 rows and 4 columns) containing the following:\n",
        "* Column 1:  angle $\\theta$ - linearly spaced values between 0 and\n",
        "* Column 2: $\\sin \\theta$  \n",
        "* Column 3: $\\cos \\theta$\n",
        "* Column 4:  average of the values in columns 2 and 3"
      ],
      "metadata": {
        "id": "jOY79Luj3d4t"
      }
    },
    {
      "cell_type": "code",
      "source": [
        "# enter your code here\n",
        "theta = np.linspace(0,np.pi,100)\n",
        "sintheta = np.sin(theta)\n",
        "costheta = np.cos(theta)\n",
        "avg = ((sintheta + costheta)/2)\n",
        "data = np.column_stack((theta,sintheta,costheta,avg))\n",
        "\n",
        "print(data)"
      ],
      "metadata": {
        "id": "FfAsJUPi3thM",
        "outputId": "6423ca0f-e059-42b2-e476-9326caf3d29c",
        "colab": {
          "base_uri": "https://localhost:8080/"
        }
      },
      "execution_count": 13,
      "outputs": [
        {
          "output_type": "stream",
          "name": "stdout",
          "text": [
            "[[ 0.00000000e+00  0.00000000e+00  1.00000000e+00  5.00000000e-01]\n",
            " [ 3.17332591e-02  3.17279335e-02  9.99496542e-01  5.15612238e-01]\n",
            " [ 6.34665183e-02  6.34239197e-02  9.97986676e-01  5.30705298e-01]\n",
            " [ 9.51997774e-02  9.50560433e-02  9.95471923e-01  5.45263983e-01]\n",
            " [ 1.26933037e-01  1.26592454e-01  9.91954813e-01  5.59273633e-01]\n",
            " [ 1.58666296e-01  1.58001396e-01  9.87438889e-01  5.72720142e-01]\n",
            " [ 1.90399555e-01  1.89251244e-01  9.81928697e-01  5.85589971e-01]\n",
            " [ 2.22132814e-01  2.20310533e-01  9.75429787e-01  5.97870160e-01]\n",
            " [ 2.53866073e-01  2.51147987e-01  9.67948701e-01  6.09548344e-01]\n",
            " [ 2.85599332e-01  2.81732557e-01  9.59492974e-01  6.20612765e-01]\n",
            " [ 3.17332591e-01  3.12033446e-01  9.50071118e-01  6.31052282e-01]\n",
            " [ 3.49065850e-01  3.42020143e-01  9.39692621e-01  6.40856382e-01]\n",
            " [ 3.80799110e-01  3.71662456e-01  9.28367933e-01  6.50015194e-01]\n",
            " [ 4.12532369e-01  4.00930535e-01  9.16108457e-01  6.58519496e-01]\n",
            " [ 4.44265628e-01  4.29794912e-01  9.02926538e-01  6.66360725e-01]\n",
            " [ 4.75998887e-01  4.58226522e-01  8.88835449e-01  6.73530985e-01]\n",
            " [ 5.07732146e-01  4.86196736e-01  8.73849377e-01  6.80023057e-01]\n",
            " [ 5.39465405e-01  5.13677392e-01  8.57983413e-01  6.85830402e-01]\n",
            " [ 5.71198664e-01  5.40640817e-01  8.41253533e-01  6.90947175e-01]\n",
            " [ 6.02931923e-01  5.67059864e-01  8.23676581e-01  6.95368223e-01]\n",
            " [ 6.34665183e-01  5.92907929e-01  8.05270258e-01  6.99089093e-01]\n",
            " [ 6.66398442e-01  6.18158986e-01  7.86053095e-01  7.02106040e-01]\n",
            " [ 6.98131701e-01  6.42787610e-01  7.66044443e-01  7.04416026e-01]\n",
            " [ 7.29864960e-01  6.66769001e-01  7.45264450e-01  7.06016725e-01]\n",
            " [ 7.61598219e-01  6.90079011e-01  7.23734038e-01  7.06906525e-01]\n",
            " [ 7.93331478e-01  7.12694171e-01  7.01474888e-01  7.07084530e-01]\n",
            " [ 8.25064737e-01  7.34591709e-01  6.78509412e-01  7.06550560e-01]\n",
            " [ 8.56797996e-01  7.55749574e-01  6.54860734e-01  7.05305154e-01]\n",
            " [ 8.88531256e-01  7.76146464e-01  6.30552667e-01  7.03349566e-01]\n",
            " [ 9.20264515e-01  7.95761841e-01  6.05609687e-01  7.00685764e-01]\n",
            " [ 9.51997774e-01  8.14575952e-01  5.80056910e-01  6.97316431e-01]\n",
            " [ 9.83731033e-01  8.32569855e-01  5.53920064e-01  6.93244959e-01]\n",
            " [ 1.01546429e+00  8.49725430e-01  5.27225468e-01  6.88475449e-01]\n",
            " [ 1.04719755e+00  8.66025404e-01  5.00000000e-01  6.83012702e-01]\n",
            " [ 1.07893081e+00  8.81453363e-01  4.72271075e-01  6.76862219e-01]\n",
            " [ 1.11066407e+00  8.95993774e-01  4.44066613e-01  6.70030193e-01]\n",
            " [ 1.14239733e+00  9.09631995e-01  4.15415013e-01  6.62523504e-01]\n",
            " [ 1.17413059e+00  9.22354294e-01  3.86345126e-01  6.54349710e-01]\n",
            " [ 1.20586385e+00  9.34147860e-01  3.56886222e-01  6.45517041e-01]\n",
            " [ 1.23759711e+00  9.45000819e-01  3.27067963e-01  6.36034391e-01]\n",
            " [ 1.26933037e+00  9.54902241e-01  2.96920375e-01  6.25911308e-01]\n",
            " [ 1.30106362e+00  9.63842159e-01  2.66473814e-01  6.15157986e-01]\n",
            " [ 1.33279688e+00  9.71811568e-01  2.35758936e-01  6.03785252e-01]\n",
            " [ 1.36453014e+00  9.78802446e-01  2.04806668e-01  5.91804557e-01]\n",
            " [ 1.39626340e+00  9.84807753e-01  1.73648178e-01  5.79227965e-01]\n",
            " [ 1.42799666e+00  9.89821442e-01  1.42314838e-01  5.66068140e-01]\n",
            " [ 1.45972992e+00  9.93838464e-01  1.10838200e-01  5.52338332e-01]\n",
            " [ 1.49146318e+00  9.96854776e-01  7.92499569e-02  5.38052366e-01]\n",
            " [ 1.52319644e+00  9.98867339e-01  4.75819158e-02  5.23224628e-01]\n",
            " [ 1.55492970e+00  9.99874128e-01  1.58659638e-02  5.07870046e-01]\n",
            " [ 1.58666296e+00  9.99874128e-01 -1.58659638e-02  4.92004082e-01]\n",
            " [ 1.61839622e+00  9.98867339e-01 -4.75819158e-02  4.75642712e-01]\n",
            " [ 1.65012947e+00  9.96854776e-01 -7.92499569e-02  4.58802410e-01]\n",
            " [ 1.68186273e+00  9.93838464e-01 -1.10838200e-01  4.41500132e-01]\n",
            " [ 1.71359599e+00  9.89821442e-01 -1.42314838e-01  4.23753302e-01]\n",
            " [ 1.74532925e+00  9.84807753e-01 -1.73648178e-01  4.05579788e-01]\n",
            " [ 1.77706251e+00  9.78802446e-01 -2.04806668e-01  3.86997889e-01]\n",
            " [ 1.80879577e+00  9.71811568e-01 -2.35758936e-01  3.68026316e-01]\n",
            " [ 1.84052903e+00  9.63842159e-01 -2.66473814e-01  3.48684172e-01]\n",
            " [ 1.87226229e+00  9.54902241e-01 -2.96920375e-01  3.28990933e-01]\n",
            " [ 1.90399555e+00  9.45000819e-01 -3.27067963e-01  3.08966428e-01]\n",
            " [ 1.93572881e+00  9.34147860e-01 -3.56886222e-01  2.88630819e-01]\n",
            " [ 1.96746207e+00  9.22354294e-01 -3.86345126e-01  2.68004584e-01]\n",
            " [ 1.99919533e+00  9.09631995e-01 -4.15415013e-01  2.47108491e-01]\n",
            " [ 2.03092858e+00  8.95993774e-01 -4.44066613e-01  2.25963581e-01]\n",
            " [ 2.06266184e+00  8.81453363e-01 -4.72271075e-01  2.04591144e-01]\n",
            " [ 2.09439510e+00  8.66025404e-01 -5.00000000e-01  1.83012702e-01]\n",
            " [ 2.12612836e+00  8.49725430e-01 -5.27225468e-01  1.61249981e-01]\n",
            " [ 2.15786162e+00  8.32569855e-01 -5.53920064e-01  1.39324895e-01]\n",
            " [ 2.18959488e+00  8.14575952e-01 -5.80056910e-01  1.17259521e-01]\n",
            " [ 2.22132814e+00  7.95761841e-01 -6.05609687e-01  9.50760767e-02]\n",
            " [ 2.25306140e+00  7.76146464e-01 -6.30552667e-01  7.27968986e-02]\n",
            " [ 2.28479466e+00  7.55749574e-01 -6.54860734e-01  5.04444202e-02]\n",
            " [ 2.31652792e+00  7.34591709e-01 -6.78509412e-01  2.80411486e-02]\n",
            " [ 2.34826118e+00  7.12694171e-01 -7.01474888e-01  5.60964184e-03]\n",
            " [ 2.37999443e+00  6.90079011e-01 -7.23734038e-01 -1.68275133e-02]\n",
            " [ 2.41172769e+00  6.66769001e-01 -7.45264450e-01 -3.92477246e-02]\n",
            " [ 2.44346095e+00  6.42787610e-01 -7.66044443e-01 -6.16284167e-02]\n",
            " [ 2.47519421e+00  6.18158986e-01 -7.86053095e-01 -8.39470543e-02]\n",
            " [ 2.50692747e+00  5.92907929e-01 -8.05270258e-01 -1.06181164e-01]\n",
            " [ 2.53866073e+00  5.67059864e-01 -8.23676581e-01 -1.28308359e-01]\n",
            " [ 2.57039399e+00  5.40640817e-01 -8.41253533e-01 -1.50306358e-01]\n",
            " [ 2.60212725e+00  5.13677392e-01 -8.57983413e-01 -1.72153011e-01]\n",
            " [ 2.63386051e+00  4.86196736e-01 -8.73849377e-01 -1.93826320e-01]\n",
            " [ 2.66559377e+00  4.58226522e-01 -8.88835449e-01 -2.15304463e-01]\n",
            " [ 2.69732703e+00  4.29794912e-01 -9.02926538e-01 -2.36565813e-01]\n",
            " [ 2.72906028e+00  4.00930535e-01 -9.16108457e-01 -2.57588961e-01]\n",
            " [ 2.76079354e+00  3.71662456e-01 -9.28367933e-01 -2.78352739e-01]\n",
            " [ 2.79252680e+00  3.42020143e-01 -9.39692621e-01 -2.98836239e-01]\n",
            " [ 2.82426006e+00  3.12033446e-01 -9.50071118e-01 -3.19018836e-01]\n",
            " [ 2.85599332e+00  2.81732557e-01 -9.59492974e-01 -3.38880208e-01]\n",
            " [ 2.88772658e+00  2.51147987e-01 -9.67948701e-01 -3.58400357e-01]\n",
            " [ 2.91945984e+00  2.20310533e-01 -9.75429787e-01 -3.77559627e-01]\n",
            " [ 2.95119310e+00  1.89251244e-01 -9.81928697e-01 -3.96338726e-01]\n",
            " [ 2.98292636e+00  1.58001396e-01 -9.87438889e-01 -4.14718746e-01]\n",
            " [ 3.01465962e+00  1.26592454e-01 -9.91954813e-01 -4.32681180e-01]\n",
            " [ 3.04639288e+00  9.50560433e-02 -9.95471923e-01 -4.50207940e-01]\n",
            " [ 3.07812614e+00  6.34239197e-02 -9.97986676e-01 -4.67281378e-01]\n",
            " [ 3.10985939e+00  3.17279335e-02 -9.99496542e-01 -4.83884304e-01]\n",
            " [ 3.14159265e+00  1.22464680e-16 -1.00000000e+00 -5.00000000e-01]]\n"
          ]
        }
      ]
    },
    {
      "cell_type": "markdown",
      "source": [
        "9. (5 points) In this problem, you will explore a random walk in which the motion of a particle is controlled by a coin toss. If the coin is heads, move one unit to the right (+1), if tails, move one unit to the left (–1). Here’s the procedure:\n",
        "* Ask the user to input the total number of steps for the random walk\n",
        "* Start the particle at the origin.\n",
        "* Pick a random number to move the particle left or right by one unit.\n",
        "* Repeat for a total of N steps\n",
        "* After the walk is complete, print the position of the particle\n",
        "\n",
        "     You can use any method you like to solve this problem"
      ],
      "metadata": {
        "id": "2WbX89BE3w1b"
      }
    },
    {
      "cell_type": "code",
      "source": [
        "# enter your code here\n",
        "\n",
        "import random\n",
        "\n",
        "N = int(input(\"Enter a interger for a total number of steps: \"))\n",
        "position = 0\n",
        "\n",
        "for _ in range(N):\n",
        "    step = random.choice([-1,1])\n",
        "    position += step\n",
        "print(f\"Your final position for this experiment is {position} for {N} number of total steps.\")"
      ],
      "metadata": {
        "id": "FtBYvZ9n3tft",
        "outputId": "13c0dacd-1cc8-409d-81de-7fd4d6d678fc",
        "colab": {
          "base_uri": "https://localhost:8080/"
        }
      },
      "execution_count": 14,
      "outputs": [
        {
          "output_type": "stream",
          "name": "stdout",
          "text": [
            "Enter a interger for a total number of steps: 10\n",
            "Your final position for this experiment is 2 for 10 number of total steps.\n"
          ]
        }
      ]
    },
    {
      "cell_type": "markdown",
      "source": [
        "10. (5 points) The Liebnitz formula for pi is:\n",
        "\n",
        "$\\pi \\approx 4 \\sum_{k=o}^N \\frac{(-1)^k}{2k+1}  \\approx 4\\cdot \\left[ 1-\\frac{1}{3} + \\frac{1}{5} - \\frac{1}{7} + \\frac{1}{9}+ \\cdots \\right]$\n",
        "                             \n",
        "* Write some Python code that prompts the user for the upper limit on the summation N and calculates the series.\n",
        "* Calculate the percent error of your approximation:  $error=\\left| \\frac{estimate-actual}{actual} \\right|\\times 100\\%$\n",
        "\n",
        "* print your estimated value of pi and the percent error along with a descriptive message\n",
        "* Use any method you like."
      ],
      "metadata": {
        "id": "XGBijCBt4A3b"
      }
    },
    {
      "cell_type": "code",
      "source": [
        "# enter your code here\n",
        "\n",
        "N = int(input(\"Enter a number to be an upper limit 'N' for summation: \"))\n",
        "pisum = 0\n",
        "\n",
        "for k in range(N+1):\n",
        "    pisum += ((-1)**k/(2*k+1))\n",
        "pisum *= 4\n",
        "\n",
        "realpi = np.pi\n",
        "error = abs((pisum - realpi/realpi)*100)\n",
        "\n",
        "print(f\"The estimated value for pi with {N} as upper limit is {pisum}\")\n",
        "print(f\"The percent error for estimated value of pi is {error}\")\n",
        "print(f\"Value of pi is {np.pi}\")"
      ],
      "metadata": {
        "id": "u-5wiTjr4dHC",
        "outputId": "36baa68a-9f72-4987-f0e4-6aa0763546c3",
        "colab": {
          "base_uri": "https://localhost:8080/"
        }
      },
      "execution_count": 18,
      "outputs": [
        {
          "output_type": "stream",
          "name": "stdout",
          "text": [
            "Enter a number to be an upper limit 'N' for summation: 10\n",
            "The estimated value for pi with 10 as upper limit is 3.232315809405594\n",
            "The percent error for estimated value of pi is 223.23158094055938\n",
            "Value of pi is 3.141592653589793\n"
          ]
        }
      ]
    }
  ]
}